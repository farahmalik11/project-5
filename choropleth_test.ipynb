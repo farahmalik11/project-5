{
 "cells": [
  {
   "cell_type": "code",
   "execution_count": null,
   "id": "d7751af8-031e-4ebb-94ae-159d9c1450c6",
   "metadata": {},
   "outputs": [],
   "source": [
    "# Choropleths\n",
    "#cite: https://plotly.com/python/county-choropleth/ > Redirects to manage deprecation: https://plotly.com/python/choropleth-maps/\n",
    "\n",
    "from urllib.request import urlopen\n",
    "import json\n",
    "import pandas as pd\n",
    "\n",
    "with urlopen('https://raw.githubusercontent.com/plotly/datasets/master/geojson-counties-fips.json') as response:\n",
    "    counties = json.load(response)\n",
    "\n",
    "\n",
    "    \n",
    "# dtype={'FIPS':str} # need to make sure we are using FIPS codes as strings vs. ints.  Can be done on import.\n",
    "\n",
    "import plotly.express as px\n",
    "\n",
    "# Get user input: which cluster would you like to see for your selected county\n",
    "user_selected_value = '' # Get user input: which cluster would you like to see for your selected county\n",
    "cluster_dict = {\n",
    "    '<user_selected_value':'column_name',\n",
    "}\n",
    "\n",
    "fig = px.choropleth(\n",
    "                    title = f\"Water Usage for {county}\"\n",
    "                    # df, ## dateframe with FIPs codes\n",
    "                    geojson=counties,\n",
    "                    locations='FIPS',\n",
    "                    color=cluster_dict.get(user_selected_value),\n",
    "                    hover_name = 'county', ## County Name\n",
    "                    hover_data = '',\n",
    "                    basemap_visible = True\n",
    "                    )"
   ]
  }
 ],
 "metadata": {
  "kernelspec": {
   "display_name": "Python 3 (ipykernel)",
   "language": "python",
   "name": "python3"
  },
  "language_info": {
   "codemirror_mode": {
    "name": "ipython",
    "version": 3
   },
   "file_extension": ".py",
   "mimetype": "text/x-python",
   "name": "python",
   "nbconvert_exporter": "python",
   "pygments_lexer": "ipython3",
   "version": "3.10.9"
  }
 },
 "nbformat": 4,
 "nbformat_minor": 5
}
