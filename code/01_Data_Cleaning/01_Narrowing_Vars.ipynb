{
 "cells": [
  {
   "cell_type": "markdown",
   "id": "5ab02150-fb8a-4285-9385-223a6615b35c",
   "metadata": {},
   "source": [
    "# Narrowing Variables Within Water Data Frame\n",
    "---\n",
    "In this notebook, we will explore our variables and see which ones may be dropped (e.g., redundant, too granular, etc.). Our final dataframe will be combined with other variables from temperature, drought, and median income data, and saved for analysis."
   ]
  },
  {
   "cell_type": "code",
   "execution_count": 1,
   "id": "ce61b1c9-3551-42e5-8029-ed88c600aa10",
   "metadata": {},
   "outputs": [],
   "source": [
    "import pandas as pd\n",
    "import numpy as np\n",
    "import os"
   ]
  },
  {
   "cell_type": "code",
   "execution_count": 3,
   "id": "9335812b-80cf-494f-80d1-5581f8dfa48f",
   "metadata": {},
   "outputs": [
    {
     "data": {
      "text/html": [
       "<div>\n",
       "<style scoped>\n",
       "    .dataframe tbody tr th:only-of-type {\n",
       "        vertical-align: middle;\n",
       "    }\n",
       "\n",
       "    .dataframe tbody tr th {\n",
       "        vertical-align: top;\n",
       "    }\n",
       "\n",
       "    .dataframe thead th {\n",
       "        text-align: right;\n",
       "    }\n",
       "</style>\n",
       "<table border=\"1\" class=\"dataframe\">\n",
       "  <thead>\n",
       "    <tr style=\"text-align: right;\">\n",
       "      <th></th>\n",
       "      <th>STATE</th>\n",
       "      <th>STATEFIPS</th>\n",
       "      <th>COUNTY</th>\n",
       "      <th>COUNTYFIPS</th>\n",
       "      <th>FIPS</th>\n",
       "      <th>YEAR</th>\n",
       "      <th>TP-TotPop</th>\n",
       "      <th>PS-GWPop</th>\n",
       "      <th>PS-SWPop</th>\n",
       "      <th>PS-TOPop</th>\n",
       "      <th>...</th>\n",
       "      <th>TO-WGWTo</th>\n",
       "      <th>TO-WSWFr</th>\n",
       "      <th>TO-WSWSa</th>\n",
       "      <th>TO-WSWTo</th>\n",
       "      <th>TO-WFrTo</th>\n",
       "      <th>TO-WSaTo</th>\n",
       "      <th>TO-Wtotl</th>\n",
       "      <th>TO-CUsFrPartial</th>\n",
       "      <th>TO-CUsSaPartial</th>\n",
       "      <th>TO-CUTotPartial</th>\n",
       "    </tr>\n",
       "  </thead>\n",
       "  <tbody>\n",
       "    <tr>\n",
       "      <th>0</th>\n",
       "      <td>AL</td>\n",
       "      <td>1</td>\n",
       "      <td>Autauga County</td>\n",
       "      <td>1</td>\n",
       "      <td>1001</td>\n",
       "      <td>2015</td>\n",
       "      <td>55.347</td>\n",
       "      <td>--</td>\n",
       "      <td>--</td>\n",
       "      <td>48.998</td>\n",
       "      <td>...</td>\n",
       "      <td>10.69</td>\n",
       "      <td>45.72</td>\n",
       "      <td>0.0</td>\n",
       "      <td>45.72</td>\n",
       "      <td>56.41</td>\n",
       "      <td>0.0</td>\n",
       "      <td>56.41</td>\n",
       "      <td>13.18</td>\n",
       "      <td>0.0</td>\n",
       "      <td>13.18</td>\n",
       "    </tr>\n",
       "    <tr>\n",
       "      <th>1</th>\n",
       "      <td>AL</td>\n",
       "      <td>1</td>\n",
       "      <td>Baldwin County</td>\n",
       "      <td>3</td>\n",
       "      <td>1003</td>\n",
       "      <td>2015</td>\n",
       "      <td>203.709</td>\n",
       "      <td>--</td>\n",
       "      <td>--</td>\n",
       "      <td>174.907</td>\n",
       "      <td>...</td>\n",
       "      <td>73.38</td>\n",
       "      <td>11.32</td>\n",
       "      <td>0.0</td>\n",
       "      <td>11.32</td>\n",
       "      <td>84.70</td>\n",
       "      <td>0.0</td>\n",
       "      <td>84.70</td>\n",
       "      <td>58.28</td>\n",
       "      <td>0.0</td>\n",
       "      <td>58.28</td>\n",
       "    </tr>\n",
       "    <tr>\n",
       "      <th>2</th>\n",
       "      <td>AL</td>\n",
       "      <td>1</td>\n",
       "      <td>Barbour County</td>\n",
       "      <td>5</td>\n",
       "      <td>1005</td>\n",
       "      <td>2015</td>\n",
       "      <td>26.489</td>\n",
       "      <td>--</td>\n",
       "      <td>--</td>\n",
       "      <td>24.587</td>\n",
       "      <td>...</td>\n",
       "      <td>6.06</td>\n",
       "      <td>2.96</td>\n",
       "      <td>0.0</td>\n",
       "      <td>2.96</td>\n",
       "      <td>9.02</td>\n",
       "      <td>0.0</td>\n",
       "      <td>9.02</td>\n",
       "      <td>2.96</td>\n",
       "      <td>0.0</td>\n",
       "      <td>2.96</td>\n",
       "    </tr>\n",
       "    <tr>\n",
       "      <th>3</th>\n",
       "      <td>AL</td>\n",
       "      <td>1</td>\n",
       "      <td>Bibb County</td>\n",
       "      <td>7</td>\n",
       "      <td>1007</td>\n",
       "      <td>2015</td>\n",
       "      <td>22.583</td>\n",
       "      <td>--</td>\n",
       "      <td>--</td>\n",
       "      <td>20.947</td>\n",
       "      <td>...</td>\n",
       "      <td>5.67</td>\n",
       "      <td>0.20</td>\n",
       "      <td>0.0</td>\n",
       "      <td>0.20</td>\n",
       "      <td>5.87</td>\n",
       "      <td>0.0</td>\n",
       "      <td>5.87</td>\n",
       "      <td>0.19</td>\n",
       "      <td>0.0</td>\n",
       "      <td>0.19</td>\n",
       "    </tr>\n",
       "    <tr>\n",
       "      <th>4</th>\n",
       "      <td>AL</td>\n",
       "      <td>1</td>\n",
       "      <td>Blount County</td>\n",
       "      <td>9</td>\n",
       "      <td>1009</td>\n",
       "      <td>2015</td>\n",
       "      <td>57.673</td>\n",
       "      <td>--</td>\n",
       "      <td>--</td>\n",
       "      <td>44.815</td>\n",
       "      <td>...</td>\n",
       "      <td>4.64</td>\n",
       "      <td>55.43</td>\n",
       "      <td>0.0</td>\n",
       "      <td>55.43</td>\n",
       "      <td>60.07</td>\n",
       "      <td>0.0</td>\n",
       "      <td>60.07</td>\n",
       "      <td>1.08</td>\n",
       "      <td>0.0</td>\n",
       "      <td>1.08</td>\n",
       "    </tr>\n",
       "  </tbody>\n",
       "</table>\n",
       "<p>5 rows × 141 columns</p>\n",
       "</div>"
      ],
      "text/plain": [
       "  STATE  STATEFIPS          COUNTY  COUNTYFIPS  FIPS  YEAR  TP-TotPop  \\\n",
       "0    AL          1  Autauga County           1  1001  2015     55.347   \n",
       "1    AL          1  Baldwin County           3  1003  2015    203.709   \n",
       "2    AL          1  Barbour County           5  1005  2015     26.489   \n",
       "3    AL          1     Bibb County           7  1007  2015     22.583   \n",
       "4    AL          1   Blount County           9  1009  2015     57.673   \n",
       "\n",
       "  PS-GWPop PS-SWPop  PS-TOPop  ...  TO-WGWTo  TO-WSWFr  TO-WSWSa  TO-WSWTo  \\\n",
       "0       --       --    48.998  ...     10.69     45.72       0.0     45.72   \n",
       "1       --       --   174.907  ...     73.38     11.32       0.0     11.32   \n",
       "2       --       --    24.587  ...      6.06      2.96       0.0      2.96   \n",
       "3       --       --    20.947  ...      5.67      0.20       0.0      0.20   \n",
       "4       --       --    44.815  ...      4.64     55.43       0.0     55.43   \n",
       "\n",
       "   TO-WFrTo  TO-WSaTo  TO-Wtotl  TO-CUsFrPartial  TO-CUsSaPartial  \\\n",
       "0     56.41       0.0     56.41            13.18              0.0   \n",
       "1     84.70       0.0     84.70            58.28              0.0   \n",
       "2      9.02       0.0      9.02             2.96              0.0   \n",
       "3      5.87       0.0      5.87             0.19              0.0   \n",
       "4     60.07       0.0     60.07             1.08              0.0   \n",
       "\n",
       "   TO-CUTotPartial  \n",
       "0            13.18  \n",
       "1            58.28  \n",
       "2             2.96  \n",
       "3             0.19  \n",
       "4             1.08  \n",
       "\n",
       "[5 rows x 141 columns]"
      ]
     },
     "execution_count": 3,
     "metadata": {},
     "output_type": "execute_result"
    }
   ],
   "source": [
    "df = pd.read_csv('../../data/raw-data/usco2015v2.0.csv', header=1)\n",
    "df.head()"
   ]
  },
  {
   "cell_type": "code",
   "execution_count": 4,
   "id": "44e7e4e4-92a7-4289-a7d9-ad6c511e5b7a",
   "metadata": {},
   "outputs": [
    {
     "data": {
      "text/plain": [
       "(3223, 141)"
      ]
     },
     "execution_count": 4,
     "metadata": {},
     "output_type": "execute_result"
    }
   ],
   "source": [
    "df.shape"
   ]
  },
  {
   "cell_type": "code",
   "execution_count": 5,
   "id": "151a7d9f-b674-4649-a731-e70954f1418e",
   "metadata": {},
   "outputs": [
    {
     "data": {
      "text/plain": [
       "STATE               object\n",
       "STATEFIPS            int64\n",
       "COUNTY              object\n",
       "COUNTYFIPS           int64\n",
       "FIPS                 int64\n",
       "                    ...   \n",
       "TO-WSaTo           float64\n",
       "TO-Wtotl           float64\n",
       "TO-CUsFrPartial    float64\n",
       "TO-CUsSaPartial    float64\n",
       "TO-CUTotPartial    float64\n",
       "Length: 141, dtype: object"
      ]
     },
     "execution_count": 5,
     "metadata": {},
     "output_type": "execute_result"
    }
   ],
   "source": [
    "df.dtypes"
   ]
  },
  {
   "cell_type": "code",
   "execution_count": 6,
   "id": "5111c5dc-0c0a-4bc7-ae31-993a42dea0bf",
   "metadata": {},
   "outputs": [
    {
     "name": "stdout",
     "output_type": "stream",
     "text": [
      "Number of times unequal: 0\n"
     ]
    }
   ],
   "source": [
    "# Finding which variables add to each other, we can narrow down features this way\n",
    "\n",
    "df['PS-WGWTo_chk'] = df['PS-WGWFr'] + df['PS-WGWSa']\n",
    "n_unequal = (round(df['PS-WGWTo_chk'],2) != round(df['PS-WGWTo'],2)).sum()\n",
    "print(f'Number of times unequal: {n_unequal}')"
   ]
  },
  {
   "cell_type": "code",
   "execution_count": 7,
   "id": "4befcd2a-82b7-4988-a010-4fc3da1a4a99",
   "metadata": {},
   "outputs": [
    {
     "name": "stdout",
     "output_type": "stream",
     "text": [
      "Number of times unequal: 0\n"
     ]
    }
   ],
   "source": [
    "df['PS-WSWTo_chk'] = df['PS-WSWFr'] + df['PS-WSWSa']\n",
    "n_unequal = (round(df['PS-WSWTo_chk'],2) != round(df['PS-WSWTo'],2)).sum()\n",
    "print(f'Number of times unequal: {n_unequal}')"
   ]
  },
  {
   "cell_type": "code",
   "execution_count": 8,
   "id": "d2a2ccd1-c513-4d7a-b4e2-cf756af239fd",
   "metadata": {},
   "outputs": [
    {
     "name": "stdout",
     "output_type": "stream",
     "text": [
      "Number of times unequal: 0\n"
     ]
    }
   ],
   "source": [
    "df['PS-Wtotl_chk'] = df['PS-WFrTo'] + df['PS-WSaTo']\n",
    "n_unequal = (round(df['PS-Wtotl_chk'],2) != round(df['PS-Wtotl'],2)).sum()\n",
    "print(f'Number of times unequal: {n_unequal}')"
   ]
  },
  {
   "cell_type": "code",
   "execution_count": 9,
   "id": "13ee4515-e92e-4568-a020-7844344bb478",
   "metadata": {},
   "outputs": [
    {
     "name": "stdout",
     "output_type": "stream",
     "text": [
      "Number of times unequal: 0\n"
     ]
    }
   ],
   "source": [
    "df['DO-WFrTo_chk'] = df['DO-WGWFr'] + df['DO-WSWFr']\n",
    "n_unequal = (round(df['DO-WFrTo_chk'],2) != round(df['DO-WFrTo'],2)).sum()\n",
    "print(f'Number of times unequal: {n_unequal}')"
   ]
  },
  {
   "cell_type": "code",
   "execution_count": 10,
   "id": "6dcc64ed-a4a5-4fb5-b7df-a1e30e37b89e",
   "metadata": {},
   "outputs": [
    {
     "name": "stdout",
     "output_type": "stream",
     "text": [
      "Number of times unequal: 0\n"
     ]
    }
   ],
   "source": [
    "df['DO-WDelv_chk'] = df['DO-WFrTo'] + df['DO-PSDel']\n",
    "n_unequal = (round(df['DO-WDelv_chk'],2) != round(df['DO-WDelv '],2)).sum()\n",
    "print(f'Number of times unequal: {n_unequal}')"
   ]
  },
  {
   "cell_type": "code",
   "execution_count": 11,
   "id": "9a664bc8-ea29-4201-bfba-cc6c4585f3be",
   "metadata": {},
   "outputs": [
    {
     "name": "stdout",
     "output_type": "stream",
     "text": [
      "Number of times unequal: 0\n"
     ]
    }
   ],
   "source": [
    "df['IN-WGWTo_chk'] = df['IN-WGWFr'] + df['IN-WGWSa']\n",
    "n_unequal = (round(df['IN-WGWTo_chk'],2) != round(df['IN-WGWTo'],2)).sum()\n",
    "print(f'Number of times unequal: {n_unequal}')"
   ]
  },
  {
   "cell_type": "code",
   "execution_count": 12,
   "id": "6f9a743b-a1bf-40d5-87da-557e0ec28804",
   "metadata": {},
   "outputs": [
    {
     "name": "stdout",
     "output_type": "stream",
     "text": [
      "Number of times unequal: 0\n"
     ]
    }
   ],
   "source": [
    "df['IN-WSWTo_chk'] = df['IN-WSWFr'] + df['IN-WSWSa']\n",
    "n_unequal = (round(df['IN-WSWTo_chk'],2) != round(df['IN-WSWTo'],2)).sum()\n",
    "print(f'Number of times unequal: {n_unequal}')"
   ]
  },
  {
   "cell_type": "code",
   "execution_count": 13,
   "id": "6f0055e5-2b22-481b-ad85-999449434778",
   "metadata": {},
   "outputs": [
    {
     "name": "stdout",
     "output_type": "stream",
     "text": [
      "Number of times unequal: 0\n"
     ]
    }
   ],
   "source": [
    "df['IN-Wtotl_chk'] = df['IN-WFrTo'] + df['IN-WSaTo']\n",
    "n_unequal = (round(df['IN-Wtotl_chk'],2) != round(df['IN-Wtotl'],2)).sum()\n",
    "print(f'Number of times unequal: {n_unequal}')"
   ]
  },
  {
   "cell_type": "code",
   "execution_count": 14,
   "id": "ffc116c2-becd-4113-a3c2-5c4c2c2e3bc0",
   "metadata": {},
   "outputs": [
    {
     "name": "stdout",
     "output_type": "stream",
     "text": [
      "Number of times unequal: 0\n"
     ]
    }
   ],
   "source": [
    "df['IR-WFrTo_chk'] = df['IR-WGWFr'] + df['IR-WSWFr']\n",
    "n_unequal = (round(df['IR-WFrTo_chk'],2) != round(df['IR-WFrTo'],2)).sum()\n",
    "print(f'Number of times unequal: {n_unequal}')"
   ]
  },
  {
   "cell_type": "code",
   "execution_count": 15,
   "id": "d60b86e7-a7ce-469c-a2f1-66d4733794f9",
   "metadata": {},
   "outputs": [
    {
     "name": "stdout",
     "output_type": "stream",
     "text": [
      "Number of times unequal: 0\n"
     ]
    }
   ],
   "source": [
    "df['IR-IrTot_chk'] = df['IR-IrSpr'] + df['IR-IrMic'] + df['IR-IrSur']\n",
    "n_unequal = (round(df['IR-IrTot_chk'],2) != round(df['IR-IrTot'],2)).sum()\n",
    "print(f'Number of times unequal: {n_unequal}')"
   ]
  },
  {
   "cell_type": "code",
   "execution_count": 16,
   "id": "79e1a906-4259-45fd-ba41-6900a3dd12a2",
   "metadata": {},
   "outputs": [
    {
     "name": "stdout",
     "output_type": "stream",
     "text": [
      "Number of times unequal: 0\n"
     ]
    }
   ],
   "source": [
    "df['PT-WGWTo_chk'] = df['PT-WGWFr'] + df['PT-WGWSa']\n",
    "n_unequal = (round(df['PT-WGWTo_chk'],2) != round(df['PT-WGWTo'],2)).sum()\n",
    "print(f'Number of times unequal: {n_unequal}')"
   ]
  },
  {
   "cell_type": "code",
   "execution_count": 17,
   "id": "20e44500-7754-4985-9ba5-453326492598",
   "metadata": {},
   "outputs": [
    {
     "name": "stdout",
     "output_type": "stream",
     "text": [
      "Number of times unequal: 0\n"
     ]
    }
   ],
   "source": [
    "df['PT-WSWTo_chk'] = df['PT-WSWFr'] + df['PT-WSWSa']\n",
    "n_unequal = (round(df['PT-WSWTo_chk'],2) != round(df['PT-WSWTo'],2)).sum()\n",
    "print(f'Number of times unequal: {n_unequal}')"
   ]
  },
  {
   "cell_type": "code",
   "execution_count": 18,
   "id": "6fb60c46-a1a1-4569-9feb-93cb07e02a96",
   "metadata": {},
   "outputs": [
    {
     "name": "stdout",
     "output_type": "stream",
     "text": [
      "Number of times unequal: 0\n"
     ]
    }
   ],
   "source": [
    "df['PT-Wtotl_chk'] = df['PT-WFrTo'] + df['PT-WSaTo']\n",
    "n_unequal = (round(df['PT-Wtotl_chk'],2) != round(df['PT-Wtotl'],2)).sum()\n",
    "print(f'Number of times unequal: {n_unequal}')"
   ]
  },
  {
   "cell_type": "code",
   "execution_count": 19,
   "id": "9d791e53-6b4d-4c6d-8409-acee44df7d20",
   "metadata": {},
   "outputs": [
    {
     "name": "stdout",
     "output_type": "stream",
     "text": [
      "Number of times unequal: 0\n"
     ]
    }
   ],
   "source": [
    "df['PT-CUTot_chk'] = df['PT-CUsFr'] + df['PT-CUsSa']\n",
    "n_unequal = (round(df['PT-CUTot_chk'],2) != round(df['PT-CUTot'],2)).sum()\n",
    "print(f'Number of times unequal: {n_unequal}')"
   ]
  },
  {
   "cell_type": "code",
   "execution_count": 20,
   "id": "d5599d45-5390-46a9-af66-a8a3fb09ff2e",
   "metadata": {},
   "outputs": [
    {
     "name": "stdout",
     "output_type": "stream",
     "text": [
      "Number of times unequal: 0\n"
     ]
    }
   ],
   "source": [
    "df['PO-WGWTo_chk'] = df['PO-WGWFr'] + df['PO-WGWSa']\n",
    "n_unequal = (round(df['PO-WGWTo_chk'],2) != round(df['PO-WGWTo'],2)).sum()\n",
    "print(f'Number of times unequal: {n_unequal}')"
   ]
  },
  {
   "cell_type": "code",
   "execution_count": 21,
   "id": "ff420bae-5fe5-472c-a654-64d15d5d081e",
   "metadata": {},
   "outputs": [
    {
     "name": "stdout",
     "output_type": "stream",
     "text": [
      "Number of times unequal: 0\n"
     ]
    }
   ],
   "source": [
    "df['PO-WSWTo_chk'] = df['PO-WSWFr'] + df['PO-WSWSa']\n",
    "n_unequal = (round(df['PO-WSWTo_chk'],2) != round(df['PO-WSWTo'],2)).sum()\n",
    "print(f'Number of times unequal: {n_unequal}')"
   ]
  },
  {
   "cell_type": "code",
   "execution_count": 22,
   "id": "d0f7d42c-83a4-4c5c-bf76-000c70901c78",
   "metadata": {},
   "outputs": [
    {
     "name": "stdout",
     "output_type": "stream",
     "text": [
      "Number of times unequal: 0\n"
     ]
    }
   ],
   "source": [
    "df['PO-Wtotl_chk'] = df['PO-WFrTo'] + df['PO-WSaTo']\n",
    "n_unequal = (round(df['PO-Wtotl_chk'],2) != round(df['PO-Wtotl'],2)).sum()\n",
    "print(f'Number of times unequal: {n_unequal}')"
   ]
  },
  {
   "cell_type": "code",
   "execution_count": 23,
   "id": "0723356a-a2eb-444b-ac31-0945a7a674f5",
   "metadata": {},
   "outputs": [
    {
     "name": "stdout",
     "output_type": "stream",
     "text": [
      "Number of times unequal: 0\n"
     ]
    }
   ],
   "source": [
    "df['PO-CUTot_chk'] = df['PO-CUsFr'] + df['PO-CUsSa']\n",
    "n_unequal = (round(df['PO-CUTot_chk'],2) != round(df['PO-CUTot'],2)).sum()\n",
    "print(f'Number of times unequal: {n_unequal}')"
   ]
  },
  {
   "cell_type": "code",
   "execution_count": 24,
   "id": "6e2a24b4-d896-4435-a568-6bbcfd3fcfbe",
   "metadata": {},
   "outputs": [
    {
     "name": "stdout",
     "output_type": "stream",
     "text": [
      "Number of times unequal: 0\n"
     ]
    }
   ],
   "source": [
    "df['PC-WGWTo_chk'] = df['PC-WGWFr'] + df['PC-WGWSa']\n",
    "n_unequal = (round(df['PC-WGWTo_chk'],2) != round(df['PC-WGWTo'],2)).sum()\n",
    "print(f'Number of times unequal: {n_unequal}')"
   ]
  },
  {
   "cell_type": "code",
   "execution_count": 25,
   "id": "29e38b9c-ca81-4dfa-bf17-82763e36464b",
   "metadata": {},
   "outputs": [
    {
     "name": "stdout",
     "output_type": "stream",
     "text": [
      "Number of times unequal: 0\n"
     ]
    }
   ],
   "source": [
    "df['PC-WSWTo_chk'] = df['PC-WSWFr'] + df['PC-WSWSa']\n",
    "n_unequal = (round(df['PC-WSWTo_chk'],2) != round(df['PC-WSWTo'],2)).sum()\n",
    "print(f'Number of times unequal: {n_unequal}')"
   ]
  },
  {
   "cell_type": "code",
   "execution_count": 26,
   "id": "9f2192c7-d6c5-476d-8db9-b19722ac946b",
   "metadata": {},
   "outputs": [
    {
     "name": "stdout",
     "output_type": "stream",
     "text": [
      "Number of times unequal: 0\n"
     ]
    }
   ],
   "source": [
    "df['PC-Wtotl_chk'] = df['PC-WFrTo'] + df['PC-WSaTo']\n",
    "n_unequal = (round(df['PC-Wtotl_chk'],2) != round(df['PC-Wtotl'],2)).sum()\n",
    "print(f'Number of times unequal: {n_unequal}')"
   ]
  },
  {
   "cell_type": "code",
   "execution_count": 27,
   "id": "2afe4376-548a-43d6-a606-fa33c880d92c",
   "metadata": {},
   "outputs": [
    {
     "name": "stdout",
     "output_type": "stream",
     "text": [
      "Number of times unequal: 0\n"
     ]
    }
   ],
   "source": [
    "df['PC-CUTot_chk'] = df['PC-CUsFr'] + df['PC-CUsSa']\n",
    "n_unequal = (round(df['PC-CUTot_chk'],2) != round(df['PC-CUTot'],2)).sum()\n",
    "print(f'Number of times unequal: {n_unequal}')"
   ]
  },
  {
   "cell_type": "code",
   "execution_count": 28,
   "id": "1d0d7863-9cfc-41a5-b2d2-08c493ebc51b",
   "metadata": {},
   "outputs": [
    {
     "name": "stdout",
     "output_type": "stream",
     "text": [
      "Number of times unequal: 0\n"
     ]
    }
   ],
   "source": [
    "df['TO-WGWTo_chk'] = df['TO-WGWFr'] + df['TO-WGWSa']\n",
    "n_unequal = (round(df['TO-WGWTo_chk'],2) != round(df['TO-WGWTo'],2)).sum()\n",
    "print(f'Number of times unequal: {n_unequal}')"
   ]
  },
  {
   "cell_type": "code",
   "execution_count": 29,
   "id": "13a8f2ca-2162-4aa7-822e-4f1430420a6e",
   "metadata": {},
   "outputs": [
    {
     "name": "stdout",
     "output_type": "stream",
     "text": [
      "Number of times unequal: 0\n"
     ]
    }
   ],
   "source": [
    "df['TO-WSWTo_chk'] = df['TO-WSWFr'] + df['TO-WSWSa']\n",
    "n_unequal = (round(df['TO-WSWTo_chk'],2) != round(df['TO-WSWTo'],2)).sum()\n",
    "print(f'Number of times unequal: {n_unequal}')"
   ]
  },
  {
   "cell_type": "code",
   "execution_count": 30,
   "id": "60016641-3441-46e5-8f3e-4efa8ac8c489",
   "metadata": {},
   "outputs": [
    {
     "name": "stdout",
     "output_type": "stream",
     "text": [
      "Number of times unequal: 0\n"
     ]
    }
   ],
   "source": [
    "df['TO-Wtotl_chk'] = df['TO-WFrTo'] + df['TO-WSaTo']\n",
    "n_unequal = (round(df['TO-Wtotl_chk'],2) != round(df['TO-Wtotl'],2)).sum()\n",
    "print(f'Number of times unequal: {n_unequal}')"
   ]
  },
  {
   "cell_type": "code",
   "execution_count": 31,
   "id": "cdba98cb-0288-4373-a9f6-c345b54494fc",
   "metadata": {},
   "outputs": [
    {
     "name": "stdout",
     "output_type": "stream",
     "text": [
      "Number of times unequal: 0\n"
     ]
    }
   ],
   "source": [
    "df['TO-CUTotPartial_chk'] = df['TO-CUsFrPartial'] + df['TO-CUsSaPartial']\n",
    "n_unequal = (round(df['TO-CUTotPartial_chk'],2) != round(df['TO-CUTotPartial'],2)).sum()\n",
    "print(f'Number of times unequal: {n_unequal}')"
   ]
  },
  {
   "cell_type": "code",
   "execution_count": 32,
   "id": "55576602-2b9c-4459-b731-2d58d89d5962",
   "metadata": {},
   "outputs": [],
   "source": [
    "df['IC-WGWFr'] = df['IC-WGWFr'].replace('--', 0)\n",
    "df['IC-WSWFr'] = df['IC-WSWFr'].replace('--', 0)\n",
    "df['IC-WFrTo'] = df['IC-WFrTo'].replace('--', 0)\n",
    "\n",
    "df['IC-WGWFr'] = pd.to_numeric(df['IC-WGWFr'], errors='coerce')\n",
    "df['IC-WSWFr'] = pd.to_numeric(df['IC-WSWFr'], errors='coerce')\n",
    "df['IC-WFrTo'] = pd.to_numeric(df['IC-WFrTo'], errors='coerce')\n",
    "\n",
    "df['IC-WGWFr'] = df['IC-WGWFr'].fillna(0)\n",
    "df['IC-WSWFr'] = df['IC-WSWFr'].fillna(0)\n",
    "df['IC-WFrTo'] = df['IC-WFrTo'].fillna(0)"
   ]
  },
  {
   "cell_type": "code",
   "execution_count": 33,
   "id": "0a46f171-4aea-48f0-a324-1e3f549c642e",
   "metadata": {},
   "outputs": [
    {
     "name": "stdout",
     "output_type": "stream",
     "text": [
      "Number of times unequal: 0\n"
     ]
    }
   ],
   "source": [
    "df['IC-WFrTo_chk'] = df['IC-WGWFr'] + df['IC-WSWFr']\n",
    "n_unequal = (round(df['IC-WFrTo_chk'],2) != round(df['IC-WFrTo'],2)).sum()\n",
    "print(f'Number of times unequal: {n_unequal}')"
   ]
  },
  {
   "cell_type": "code",
   "execution_count": 34,
   "id": "57bc65c0-3eb3-4748-b641-dcf6110a0c1e",
   "metadata": {},
   "outputs": [
    {
     "name": "stdout",
     "output_type": "stream",
     "text": [
      "Number of times unequal: 0\n"
     ]
    }
   ],
   "source": [
    "df['IC-IrSpr'] = df['IC-IrSpr'].replace('--', 0)\n",
    "df['IC-IrMic'] = df['IC-IrMic'].replace('--', 0)\n",
    "df['IC-IrSur'] = df['IC-IrSur'].replace('--', 0)\n",
    "df['IC-IrTot'] = df['IC-IrTot'].replace('--', 0)\n",
    "\n",
    "df['IC-IrSpr'] = pd.to_numeric(df['IC-IrSpr'], errors='coerce')\n",
    "df['IC-IrMic'] = pd.to_numeric(df['IC-IrMic'], errors='coerce')\n",
    "df['IC-IrSur'] = pd.to_numeric(df['IC-IrSur'], errors='coerce')\n",
    "df['IC-IrTot'] = pd.to_numeric(df['IC-IrTot'], errors='coerce')\n",
    "\n",
    "df['IC-IrSpr'] = df['IC-IrSpr'].fillna(0)\n",
    "df['IC-IrMic'] = df['IC-IrMic'].fillna(0)\n",
    "df['IC-IrSur'] = df['IC-IrSur'].fillna(0)\n",
    "df['IC-IrTot'] = df['IC-IrTot'].fillna(0)\n",
    "\n",
    "df['IC-IrTot_chk'] = df['IC-IrSpr'] + df['IC-IrMic'] + df['IC-IrSur']\n",
    "n_unequal = (round(df['IC-IrTot_chk'],2) != round(df['IC-IrTot'],2)).sum()\n",
    "print(f'Number of times unequal: {n_unequal}')"
   ]
  },
  {
   "cell_type": "code",
   "execution_count": 35,
   "id": "150b528c-14bb-431e-909a-c745df6fc6f2",
   "metadata": {},
   "outputs": [
    {
     "name": "stdout",
     "output_type": "stream",
     "text": [
      "Number of times unequal: 0\n"
     ]
    }
   ],
   "source": [
    "df['IG-WGWFr'] = df['IG-WGWFr'].replace('--', 0)\n",
    "df['IG-WSWFr'] = df['IG-WSWFr'].replace('--', 0)\n",
    "df['IG-WFrTo'] = df['IG-WFrTo'].replace('--', 0)\n",
    "\n",
    "df['IG-WGWFr'] = pd.to_numeric(df['IG-WGWFr'], errors='coerce')\n",
    "df['IG-WSWFr'] = pd.to_numeric(df['IG-WSWFr'], errors='coerce')\n",
    "df['IG-WFrTo'] = pd.to_numeric(df['IG-WFrTo'], errors='coerce')\n",
    "\n",
    "df['IG-WGWFr'] = df['IG-WGWFr'].fillna(0)\n",
    "df['IG-WSWFr'] = df['IG-WSWFr'].fillna(0)\n",
    "df['IG-WFrTo'] = df['IG-WFrTo'].fillna(0)\n",
    "\n",
    "df['IG-WFrTo_chk'] = df['IG-WGWFr'] + df['IG-WSWFr']\n",
    "n_unequal = (round(df['IG-WFrTo_chk'],2) != round(df['IG-WFrTo'],2)).sum()\n",
    "print(f'Number of times unequal: {n_unequal}')"
   ]
  },
  {
   "cell_type": "code",
   "execution_count": 36,
   "id": "c1eafc93-fed2-4ec0-af7b-1c6341f71a4a",
   "metadata": {},
   "outputs": [
    {
     "name": "stdout",
     "output_type": "stream",
     "text": [
      "Number of times unequal: 0\n"
     ]
    }
   ],
   "source": [
    "df['IG-IrSpr'] = df['IG-IrSpr'].replace('--', 0)\n",
    "df['IG-IrMic'] = df['IG-IrMic'].replace('--', 0)\n",
    "df['IG-IrSur'] = df['IG-IrSur'].replace('--', 0)\n",
    "df['IG-IrTot'] = df['IG-IrTot'].replace('--', 0)\n",
    "\n",
    "df['IG-IrSpr'] = pd.to_numeric(df['IG-IrSpr'], errors='coerce')\n",
    "df['IG-IrMic'] = pd.to_numeric(df['IG-IrMic'], errors='coerce')\n",
    "df['IG-IrSur'] = pd.to_numeric(df['IG-IrSur'], errors='coerce')\n",
    "df['IG-IrTot'] = pd.to_numeric(df['IG-IrTot'], errors='coerce')\n",
    "\n",
    "df['IG-IrSpr'] = df['IG-IrSpr'].fillna(0)\n",
    "df['IG-IrMic'] = df['IG-IrMic'].fillna(0)\n",
    "df['IG-IrSur'] = df['IG-IrSur'].fillna(0)\n",
    "df['IG-IrTot'] = df['IG-IrTot'].fillna(0)\n",
    "\n",
    "df['IG-IrTot_chk'] = df['IG-IrSpr'] + df['IG-IrMic'] + df['IG-IrSur']\n",
    "n_unequal = (round(df['IG-IrTot_chk'],2) != round(df['IG-IrTot'],2)).sum()\n",
    "print(f'Number of times unequal: {n_unequal}')"
   ]
  },
  {
   "cell_type": "code",
   "execution_count": 37,
   "id": "37606dc0-1f21-4dd2-bf09-5d29eaf6ad13",
   "metadata": {},
   "outputs": [
    {
     "name": "stdout",
     "output_type": "stream",
     "text": [
      "Number of times unequal: 0\n"
     ]
    }
   ],
   "source": [
    "df['LI-WFrTo_chk'] = df['LI-WGWFr'] + df['LI-WSWFr']\n",
    "n_unequal = (round(df['LI-WFrTo_chk'],2) != round(df['LI-WFrTo'],2)).sum()\n",
    "print(f'Number of times unequal: {n_unequal}')"
   ]
  },
  {
   "cell_type": "code",
   "execution_count": 38,
   "id": "124da422-b5e6-4168-afc8-af5c687edb5c",
   "metadata": {},
   "outputs": [
    {
     "name": "stdout",
     "output_type": "stream",
     "text": [
      "Number of times unequal: 0\n"
     ]
    }
   ],
   "source": [
    "df['AQ-WGWSa'] = df['AQ-WGWSa'].replace('--', 0)\n",
    "df['AQ-WGWSa'] = pd.to_numeric(df['AQ-WGWSa'], errors='coerce')\n",
    "df['AQ-WGWSa'] = df['AQ-WGWSa'].fillna(0)\n",
    "\n",
    "df['AQ-WGWTo_chk'] = df['AQ-WGWFr'] + df['AQ-WGWSa']\n",
    "n_unequal = (round(df['AQ-WGWTo_chk'],2) != round(df['AQ-WGWTo'],2)).sum()\n",
    "print(f'Number of times unequal: {n_unequal}')"
   ]
  },
  {
   "cell_type": "code",
   "execution_count": 39,
   "id": "1e585b43-989d-4a79-95f3-9d5cc353354c",
   "metadata": {},
   "outputs": [
    {
     "name": "stdout",
     "output_type": "stream",
     "text": [
      "Number of times unequal: 0\n"
     ]
    }
   ],
   "source": [
    "df['AQ-WSWSa'] = df['AQ-WSWSa'].replace('--', 0)\n",
    "df['AQ-WSWSa'] = pd.to_numeric(df['AQ-WSWSa'], errors='coerce')\n",
    "df['AQ-WSWSa'] = df['AQ-WSWSa'].fillna(0)\n",
    "\n",
    "df['AQ-WSWTo_chk'] = df['AQ-WSWFr'] + df['AQ-WSWSa']\n",
    "n_unequal = (round(df['AQ-WSWTo_chk'],2) != round(df['AQ-WSWTo'],2)).sum()\n",
    "print(f'Number of times unequal: {n_unequal}')"
   ]
  },
  {
   "cell_type": "code",
   "execution_count": 40,
   "id": "153552f7-a4c3-4b43-abc1-e75cfb3d2d5e",
   "metadata": {},
   "outputs": [
    {
     "name": "stdout",
     "output_type": "stream",
     "text": [
      "Number of times unequal: 0\n"
     ]
    }
   ],
   "source": [
    "df['AQ-WSaTo'] = df['AQ-WSaTo'].replace('--', 0)\n",
    "df['AQ-WSaTo'] = pd.to_numeric(df['AQ-WSaTo'], errors='coerce')\n",
    "df['AQ-WSaTo'] = df['AQ-WSaTo'].fillna(0)\n",
    "\n",
    "df['AQ-Wtotl_chk'] = df['AQ-WFrTo'] + df['AQ-WSaTo']\n",
    "n_unequal = (round(df['AQ-Wtotl_chk'],2) != round(df['AQ-Wtotl'],2)).sum()\n",
    "print(f'Number of times unequal: {n_unequal}')"
   ]
  },
  {
   "cell_type": "code",
   "execution_count": 41,
   "id": "e9cef159-0a44-4c75-85ca-ce8bdf66874e",
   "metadata": {},
   "outputs": [
    {
     "name": "stdout",
     "output_type": "stream",
     "text": [
      "Number of times unequal: 0\n"
     ]
    }
   ],
   "source": [
    "df['MI-WGWTo_chk'] = df['MI-WGWFr'] + df['MI-WGWSa']\n",
    "n_unequal = (round(df['MI-WGWTo_chk'],2) != round(df['MI-WGWTo'],2)).sum()\n",
    "print(f'Number of times unequal: {n_unequal}')"
   ]
  },
  {
   "cell_type": "code",
   "execution_count": 42,
   "id": "52884a3f-ef58-43c8-a989-44af61ce5085",
   "metadata": {},
   "outputs": [
    {
     "name": "stdout",
     "output_type": "stream",
     "text": [
      "Number of times unequal: 0\n"
     ]
    }
   ],
   "source": [
    "df['MI-WSWTo_chk'] = df['MI-WSWFr'] + df['MI-WSWSa']\n",
    "n_unequal = (round(df['MI-WSWTo_chk'],2) != round(df['MI-WSWTo'],2)).sum()\n",
    "print(f'Number of times unequal: {n_unequal}')"
   ]
  },
  {
   "cell_type": "code",
   "execution_count": 43,
   "id": "f7d3ce51-763e-4c82-92bd-e97dd47d27d2",
   "metadata": {},
   "outputs": [
    {
     "name": "stdout",
     "output_type": "stream",
     "text": [
      "Number of times unequal: 0\n"
     ]
    }
   ],
   "source": [
    "df['MI-Wtotl_chk'] = df['MI-WFrTo'] + df['MI-WSaTo']\n",
    "n_unequal = (round(df['MI-Wtotl_chk'],2) != round(df['MI-Wtotl'],2)).sum()\n",
    "print(f'Number of times unequal: {n_unequal}')"
   ]
  },
  {
   "cell_type": "code",
   "execution_count": null,
   "id": "23568949-d193-40ed-bd25-23756b786970",
   "metadata": {},
   "outputs": [],
   "source": []
  },
  {
   "cell_type": "code",
   "execution_count": null,
   "id": "dd470e02-8dcd-445f-a30e-227ee4dc593e",
   "metadata": {},
   "outputs": [],
   "source": []
  },
  {
   "cell_type": "markdown",
   "id": "4436a1c5-ee55-4fac-a54e-cf42f7a70ef6",
   "metadata": {},
   "source": [
    "#### Based on these confirmations, it appears we can drop the Fresh vs. Saline columns and keep the Total columns only\n",
    "\n",
    "##### \"Total\" Columns to Keep:\n",
    "- PS-WGWTo\n",
    "- PS-WSWTo\n",
    "- PS-Wtotl\n",
    "- DO-WFrTo \n",
    "- DO-WDelv (notice this variable has a trailing space)\n",
    "- IN-WGWTo\n",
    "- IN-WSWTo\n",
    "- IN-Wtotl\n",
    "- IR-WFrTo\n",
    "- IC-WFrTo\n",
    "- DO-PSDel\n",
    "- IR-IrTot\n",
    "- PT-WGWTo\n",
    "- PT-WSWTo\n",
    "- PT-Wtotl\n",
    "- PT-CUTot\n",
    "- PO-WGWTo\n",
    "- PO-WSWTo\n",
    "- PO-Wtotl\n",
    "- PO-CUTot\n",
    "- PC-WGWTo\n",
    "- PC-WSWTo\n",
    "- PC-Wtotl\n",
    "- PC-CUTot\n",
    "- TO-WGWTo\n",
    "- TO-WSWTo\n",
    "- TO-Wtotl\n",
    "- TO-CUTotPartial\n",
    "- ... Others as well"
   ]
  },
  {
   "cell_type": "code",
   "execution_count": 44,
   "id": "4c6b3402-febe-4473-9ff3-05dbff7b1e55",
   "metadata": {},
   "outputs": [],
   "source": [
    "df2 = df.filter(items=[ 'STATE', 'COUNTY', 'FIPS', 'YEAR',\n",
    "                        'TP-TotPop',\n",
    "                        'PS-GWPop',\n",
    "                        'PS-SWPop',\n",
    "                        'PS-TOPop',\n",
    "                        'PS-WGWTo',\n",
    "                        'PS-WSWTo',\n",
    "                        'PS-Wtotl',\n",
    "                        'DO-SSPop',\n",
    "                        'DO-SSPCp',\n",
    "                        'DO-PSDel',\n",
    "                        'DO-PSPCp',\n",
    "                        'DO-WFrTo', \n",
    "                        'DO-WDelv ', \n",
    "                        'IN-WGWTo',\n",
    "                        'IN-WSWTo',\n",
    "                        'IN-Wtotl',\n",
    "                        'IR-WFrTo',\n",
    "                        'IR-RecWW',\n",
    "                        'IR-CUsFr',\n",
    "                        'IR-IrTot',\n",
    "                        'IC-WFrTo',\n",
    "                        'IC-RecWW',\n",
    "                        'IC-CUsFr',\n",
    "                        'IC-IrTot',\n",
    "                        'IG-WFrTo',\n",
    "                        'IG-RecWW',\n",
    "                        'IG-CUsFr',\n",
    "                        'IG-IrTot',\n",
    "                        'LI-WFrTo',\n",
    "                        'AQ-WGWTo',\n",
    "                        'AQ-WSWTo',\n",
    "                        'AQ-Wtotl',\n",
    "                        'MI-WGWTo',\n",
    "                        'MI-WSWTo',\n",
    "                        'MI-Wtotl',\n",
    "                        'PT-WGWTo',\n",
    "                        'PT-WSWTo',\n",
    "                        'PT-Wtotl',\n",
    "                        'PT-RecWW',\n",
    "                        'PT-PSDel',\n",
    "                        'PT-CUTot',\n",
    "                        'PT-Power',\n",
    "                        'PO-WGWTo',\n",
    "                        'PO-WSWTo',\n",
    "                        'PO-Wtotl',\n",
    "                        'PO-RecWW',\n",
    "                        'PO-PSDel',\n",
    "                        'PO-CUTot',\n",
    "                        'PO-Power',\n",
    "                        'PC-WGWTo',\n",
    "                        'PC-WSWTo',\n",
    "                        'PC-Wtotl',\n",
    "                        'PC-RecWW',\n",
    "                        'PC-PSDel',\n",
    "                        'PC-CUTot',\n",
    "                        'PC-Power',\n",
    "                        'TO-WGWTo',\n",
    "                        'TO-WSWTo',\n",
    "                        'TO-Wtotl',\n",
    "                        'TO-CUTotPartial'])"
   ]
  },
  {
   "cell_type": "code",
   "execution_count": 45,
   "id": "b7ce3ba9-f8e9-42f2-b6d7-146ee6438bb6",
   "metadata": {},
   "outputs": [
    {
     "data": {
      "text/html": [
       "<div>\n",
       "<style scoped>\n",
       "    .dataframe tbody tr th:only-of-type {\n",
       "        vertical-align: middle;\n",
       "    }\n",
       "\n",
       "    .dataframe tbody tr th {\n",
       "        vertical-align: top;\n",
       "    }\n",
       "\n",
       "    .dataframe thead th {\n",
       "        text-align: right;\n",
       "    }\n",
       "</style>\n",
       "<table border=\"1\" class=\"dataframe\">\n",
       "  <thead>\n",
       "    <tr style=\"text-align: right;\">\n",
       "      <th></th>\n",
       "      <th>STATE</th>\n",
       "      <th>COUNTY</th>\n",
       "      <th>FIPS</th>\n",
       "      <th>YEAR</th>\n",
       "      <th>TP-TotPop</th>\n",
       "      <th>PS-GWPop</th>\n",
       "      <th>PS-SWPop</th>\n",
       "      <th>PS-TOPop</th>\n",
       "      <th>PS-WGWTo</th>\n",
       "      <th>PS-WSWTo</th>\n",
       "      <th>...</th>\n",
       "      <th>PC-WSWTo</th>\n",
       "      <th>PC-Wtotl</th>\n",
       "      <th>PC-RecWW</th>\n",
       "      <th>PC-PSDel</th>\n",
       "      <th>PC-CUTot</th>\n",
       "      <th>PC-Power</th>\n",
       "      <th>TO-WGWTo</th>\n",
       "      <th>TO-WSWTo</th>\n",
       "      <th>TO-Wtotl</th>\n",
       "      <th>TO-CUTotPartial</th>\n",
       "    </tr>\n",
       "  </thead>\n",
       "  <tbody>\n",
       "    <tr>\n",
       "      <th>0</th>\n",
       "      <td>AL</td>\n",
       "      <td>Autauga County</td>\n",
       "      <td>1001</td>\n",
       "      <td>2015</td>\n",
       "      <td>55.347</td>\n",
       "      <td>--</td>\n",
       "      <td>--</td>\n",
       "      <td>48.998</td>\n",
       "      <td>3.64</td>\n",
       "      <td>0.00</td>\n",
       "      <td>...</td>\n",
       "      <td>11.86</td>\n",
       "      <td>11.86</td>\n",
       "      <td>--</td>\n",
       "      <td>--</td>\n",
       "      <td>9.66</td>\n",
       "      <td>15711.64</td>\n",
       "      <td>10.69</td>\n",
       "      <td>45.72</td>\n",
       "      <td>56.41</td>\n",
       "      <td>13.18</td>\n",
       "    </tr>\n",
       "    <tr>\n",
       "      <th>1</th>\n",
       "      <td>AL</td>\n",
       "      <td>Baldwin County</td>\n",
       "      <td>1003</td>\n",
       "      <td>2015</td>\n",
       "      <td>203.709</td>\n",
       "      <td>--</td>\n",
       "      <td>--</td>\n",
       "      <td>174.907</td>\n",
       "      <td>23.67</td>\n",
       "      <td>0.00</td>\n",
       "      <td>...</td>\n",
       "      <td>0.00</td>\n",
       "      <td>0.00</td>\n",
       "      <td>--</td>\n",
       "      <td>--</td>\n",
       "      <td>0.00</td>\n",
       "      <td>0.00</td>\n",
       "      <td>73.38</td>\n",
       "      <td>11.32</td>\n",
       "      <td>84.70</td>\n",
       "      <td>58.28</td>\n",
       "    </tr>\n",
       "    <tr>\n",
       "      <th>2</th>\n",
       "      <td>AL</td>\n",
       "      <td>Barbour County</td>\n",
       "      <td>1005</td>\n",
       "      <td>2015</td>\n",
       "      <td>26.489</td>\n",
       "      <td>--</td>\n",
       "      <td>--</td>\n",
       "      <td>24.587</td>\n",
       "      <td>3.23</td>\n",
       "      <td>0.00</td>\n",
       "      <td>...</td>\n",
       "      <td>0.00</td>\n",
       "      <td>0.00</td>\n",
       "      <td>--</td>\n",
       "      <td>--</td>\n",
       "      <td>0.00</td>\n",
       "      <td>0.00</td>\n",
       "      <td>6.06</td>\n",
       "      <td>2.96</td>\n",
       "      <td>9.02</td>\n",
       "      <td>2.96</td>\n",
       "    </tr>\n",
       "    <tr>\n",
       "      <th>3</th>\n",
       "      <td>AL</td>\n",
       "      <td>Bibb County</td>\n",
       "      <td>1007</td>\n",
       "      <td>2015</td>\n",
       "      <td>22.583</td>\n",
       "      <td>--</td>\n",
       "      <td>--</td>\n",
       "      <td>20.947</td>\n",
       "      <td>5.18</td>\n",
       "      <td>0.00</td>\n",
       "      <td>...</td>\n",
       "      <td>0.00</td>\n",
       "      <td>0.00</td>\n",
       "      <td>--</td>\n",
       "      <td>--</td>\n",
       "      <td>0.00</td>\n",
       "      <td>0.00</td>\n",
       "      <td>5.67</td>\n",
       "      <td>0.20</td>\n",
       "      <td>5.87</td>\n",
       "      <td>0.19</td>\n",
       "    </tr>\n",
       "    <tr>\n",
       "      <th>4</th>\n",
       "      <td>AL</td>\n",
       "      <td>Blount County</td>\n",
       "      <td>1009</td>\n",
       "      <td>2015</td>\n",
       "      <td>57.673</td>\n",
       "      <td>--</td>\n",
       "      <td>--</td>\n",
       "      <td>44.815</td>\n",
       "      <td>2.78</td>\n",
       "      <td>54.08</td>\n",
       "      <td>...</td>\n",
       "      <td>0.00</td>\n",
       "      <td>0.00</td>\n",
       "      <td>--</td>\n",
       "      <td>--</td>\n",
       "      <td>0.00</td>\n",
       "      <td>0.00</td>\n",
       "      <td>4.64</td>\n",
       "      <td>55.43</td>\n",
       "      <td>60.07</td>\n",
       "      <td>1.08</td>\n",
       "    </tr>\n",
       "  </tbody>\n",
       "</table>\n",
       "<p>5 rows × 66 columns</p>\n",
       "</div>"
      ],
      "text/plain": [
       "  STATE          COUNTY  FIPS  YEAR  TP-TotPop PS-GWPop PS-SWPop  PS-TOPop  \\\n",
       "0    AL  Autauga County  1001  2015     55.347       --       --    48.998   \n",
       "1    AL  Baldwin County  1003  2015    203.709       --       --   174.907   \n",
       "2    AL  Barbour County  1005  2015     26.489       --       --    24.587   \n",
       "3    AL     Bibb County  1007  2015     22.583       --       --    20.947   \n",
       "4    AL   Blount County  1009  2015     57.673       --       --    44.815   \n",
       "\n",
       "   PS-WGWTo  PS-WSWTo  ...  PC-WSWTo  PC-Wtotl  PC-RecWW  PC-PSDel  PC-CUTot  \\\n",
       "0      3.64      0.00  ...     11.86     11.86        --        --      9.66   \n",
       "1     23.67      0.00  ...      0.00      0.00        --        --      0.00   \n",
       "2      3.23      0.00  ...      0.00      0.00        --        --      0.00   \n",
       "3      5.18      0.00  ...      0.00      0.00        --        --      0.00   \n",
       "4      2.78     54.08  ...      0.00      0.00        --        --      0.00   \n",
       "\n",
       "   PC-Power  TO-WGWTo  TO-WSWTo  TO-Wtotl  TO-CUTotPartial  \n",
       "0  15711.64     10.69     45.72     56.41            13.18  \n",
       "1      0.00     73.38     11.32     84.70            58.28  \n",
       "2      0.00      6.06      2.96      9.02             2.96  \n",
       "3      0.00      5.67      0.20      5.87             0.19  \n",
       "4      0.00      4.64     55.43     60.07             1.08  \n",
       "\n",
       "[5 rows x 66 columns]"
      ]
     },
     "execution_count": 45,
     "metadata": {},
     "output_type": "execute_result"
    }
   ],
   "source": [
    "df2.head()"
   ]
  },
  {
   "cell_type": "code",
   "execution_count": 46,
   "id": "4b23eeb9-3868-4e42-92d2-0f7697aaea71",
   "metadata": {},
   "outputs": [
    {
     "data": {
      "text/plain": [
       "(3223, 66)"
      ]
     },
     "execution_count": 46,
     "metadata": {},
     "output_type": "execute_result"
    }
   ],
   "source": [
    "df2.shape"
   ]
  },
  {
   "cell_type": "code",
   "execution_count": 47,
   "id": "673b4de9-3c7d-4947-907a-ef8fb1c5ba3f",
   "metadata": {},
   "outputs": [],
   "source": [
    "df2.to_csv('../../data/clean-data/usco2015v2.0_clean2.csv', index=False)"
   ]
  }
 ],
 "metadata": {
  "kernelspec": {
   "display_name": "Python 3 (ipykernel)",
   "language": "python",
   "name": "python3"
  },
  "language_info": {
   "codemirror_mode": {
    "name": "ipython",
    "version": 3
   },
   "file_extension": ".py",
   "mimetype": "text/x-python",
   "name": "python",
   "nbconvert_exporter": "python",
   "pygments_lexer": "ipython3",
   "version": "3.10.9"
  }
 },
 "nbformat": 4,
 "nbformat_minor": 5
}
