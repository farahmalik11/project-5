{
 "cells": [
  {
   "cell_type": "markdown",
   "id": "52e64ae3-2877-4233-ae1b-6b36df4dbb05",
   "metadata": {},
   "source": [
    "# Scraping Data Dictionary for Water and Temperature Data\n",
    "---\n",
    "This notebook scrapes US Geological Survey data for our data dictionary. This data was expansive, therefore the data dictionary process was automated. This program can be run in any order, before or after other programs in the Data Cleaning Folder.\n",
    "\n",
    "# Contents\n",
    "- [Water Usage Data from the USGS](#Water-Usage-Data-from-the-USGS)\n",
    "- [Weather and Temperature Data from Keith Spangler via Figshare](#Weather-and-Temperature-Data-from-Keith-Spangler-via-Figshare)\n",
    "---"
   ]
  },
  {
   "cell_type": "code",
   "execution_count": 1,
   "id": "4830784e-b9b3-4c11-83ac-107f4861fc75",
   "metadata": {},
   "outputs": [],
   "source": [
    "import pandas as pd\n",
    "import requests\n",
    "from bs4 import BeautifulSoup"
   ]
  },
  {
   "cell_type": "markdown",
   "id": "43531437-8940-41ee-b561-f692aa0cfd38",
   "metadata": {},
   "source": [
    "### Water Usage Data from the USGS"
   ]
  },
  {
   "cell_type": "code",
   "execution_count": 2,
   "id": "99a9db96-c26e-40ec-b93c-cacd4576d6a4",
   "metadata": {},
   "outputs": [
    {
     "data": {
      "text/plain": [
       "200"
      ]
     },
     "execution_count": 2,
     "metadata": {},
     "output_type": "execute_result"
    }
   ],
   "source": [
    "url = 'https://www.sciencebase.gov/catalog/file/get/5af3311be4b0da30c1b245d8?f=__disk__7c%2Fd0%2Fda%2F7cd0da1f354d12c5870f0dee7446cb41ad5a013f&transform=1&allowOpen=true'\n",
    "res = requests.get(url)\n",
    "res.status_code"
   ]
  },
  {
   "cell_type": "code",
   "execution_count": 3,
   "id": "a0714bdd-efb0-4375-a3df-0a01f370bf3e",
   "metadata": {},
   "outputs": [],
   "source": [
    "soup = BeautifulSoup(res.content)"
   ]
  },
  {
   "cell_type": "code",
   "execution_count": 4,
   "id": "21c704d0-ee31-489f-adc7-abb50600ead7",
   "metadata": {},
   "outputs": [
    {
     "data": {
      "text/plain": [
       "19"
      ]
     },
     "execution_count": 4,
     "metadata": {},
     "output_type": "execute_result"
    }
   ],
   "source": [
    "len('Attribute Label:   ')"
   ]
  },
  {
   "cell_type": "code",
   "execution_count": 5,
   "id": "a42b652c-7d42-4631-9468-d8048c7338f6",
   "metadata": {
    "tags": []
   },
   "outputs": [
    {
     "data": {
      "text/plain": [
       "[<b><i><font color=\"#488AC7\">Attribute Label:   </font></i></b>,\n",
       " <b><i><font color=\"#488AC7\">Attribute Label:   </font></i></b>,\n",
       " <b><i><font color=\"#488AC7\">Attribute Label:   </font></i></b>,\n",
       " <b><i><font color=\"#488AC7\">Attribute Label:   </font></i></b>,\n",
       " <b><i><font color=\"#488AC7\">Attribute Label:   </font></i></b>,\n",
       " <b><i><font color=\"#488AC7\">Attribute Label:   </font></i></b>,\n",
       " <b><i><font color=\"#488AC7\">Attribute Label:   </font></i></b>,\n",
       " <b><i><font color=\"#488AC7\">Attribute Label:   </font></i></b>,\n",
       " <b><i><font color=\"#488AC7\">Attribute Label:   </font></i></b>,\n",
       " <b><i><font color=\"#488AC7\">Attribute Label:   </font></i></b>,\n",
       " <b><i><font color=\"#488AC7\">Attribute Label:   </font></i></b>,\n",
       " <b><i><font color=\"#488AC7\">Attribute Label:   </font></i></b>,\n",
       " <b><i><font color=\"#488AC7\">Attribute Label:   </font></i></b>,\n",
       " <b><i><font color=\"#488AC7\">Attribute Label:   </font></i></b>,\n",
       " <b><i><font color=\"#488AC7\">Attribute Label:   </font></i></b>,\n",
       " <b><i><font color=\"#488AC7\">Attribute Label:   </font></i></b>,\n",
       " <b><i><font color=\"#488AC7\">Attribute Label:   </font></i></b>,\n",
       " <b><i><font color=\"#488AC7\">Attribute Label:   </font></i></b>,\n",
       " <b><i><font color=\"#488AC7\">Attribute Label:   </font></i></b>,\n",
       " <b><i><font color=\"#488AC7\">Attribute Label:   </font></i></b>,\n",
       " <b><i><font color=\"#488AC7\">Attribute Label:   </font></i></b>,\n",
       " <b><i><font color=\"#488AC7\">Attribute Label:   </font></i></b>,\n",
       " <b><i><font color=\"#488AC7\">Attribute Label:   </font></i></b>,\n",
       " <b><i><font color=\"#488AC7\">Attribute Label:   </font></i></b>,\n",
       " <b><i><font color=\"#488AC7\">Attribute Label:   </font></i></b>,\n",
       " <b><i><font color=\"#488AC7\">Attribute Label:   </font></i></b>,\n",
       " <b><i><font color=\"#488AC7\">Attribute Label:   </font></i></b>,\n",
       " <b><i><font color=\"#488AC7\">Attribute Label:   </font></i></b>,\n",
       " <b><i><font color=\"#488AC7\">Attribute Label:   </font></i></b>,\n",
       " <b><i><font color=\"#488AC7\">Attribute Label:   </font></i></b>,\n",
       " <b><i><font color=\"#488AC7\">Attribute Label:   </font></i></b>,\n",
       " <b><i><font color=\"#488AC7\">Attribute Label:   </font></i></b>,\n",
       " <b><i><font color=\"#488AC7\">Attribute Label:   </font></i></b>,\n",
       " <b><i><font color=\"#488AC7\">Attribute Label:   </font></i></b>,\n",
       " <b><i><font color=\"#488AC7\">Attribute Label:   </font></i></b>,\n",
       " <b><i><font color=\"#488AC7\">Attribute Label:   </font></i></b>,\n",
       " <b><i><font color=\"#488AC7\">Attribute Label:   </font></i></b>,\n",
       " <b><i><font color=\"#488AC7\">Attribute Label:   </font></i></b>,\n",
       " <b><i><font color=\"#488AC7\">Attribute Label:   </font></i></b>,\n",
       " <b><i><font color=\"#488AC7\">Attribute Label:   </font></i></b>,\n",
       " <b><i><font color=\"#488AC7\">Attribute Label:   </font></i></b>,\n",
       " <b><i><font color=\"#488AC7\">Attribute Label:   </font></i></b>,\n",
       " <b><i><font color=\"#488AC7\">Attribute Label:   </font></i></b>,\n",
       " <b><i><font color=\"#488AC7\">Attribute Label:   </font></i></b>,\n",
       " <b><i><font color=\"#488AC7\">Attribute Label:   </font></i></b>,\n",
       " <b><i><font color=\"#488AC7\">Attribute Label:   </font></i></b>,\n",
       " <b><i><font color=\"#488AC7\">Attribute Label:   </font></i></b>,\n",
       " <b><i><font color=\"#488AC7\">Attribute Label:   </font></i></b>,\n",
       " <b><i><font color=\"#488AC7\">Attribute Label:   </font></i></b>,\n",
       " <b><i><font color=\"#488AC7\">Attribute Label:   </font></i></b>,\n",
       " <b><i><font color=\"#488AC7\">Attribute Label:   </font></i></b>,\n",
       " <b><i><font color=\"#488AC7\">Attribute Label:   </font></i></b>,\n",
       " <b><i><font color=\"#488AC7\">Attribute Label:   </font></i></b>,\n",
       " <b><i><font color=\"#488AC7\">Attribute Label:   </font></i></b>,\n",
       " <b><i><font color=\"#488AC7\">Attribute Label:   </font></i></b>,\n",
       " <b><i><font color=\"#488AC7\">Attribute Label:   </font></i></b>,\n",
       " <b><i><font color=\"#488AC7\">Attribute Label:   </font></i></b>,\n",
       " <b><i><font color=\"#488AC7\">Attribute Label:   </font></i></b>,\n",
       " <b><i><font color=\"#488AC7\">Attribute Label:   </font></i></b>,\n",
       " <b><i><font color=\"#488AC7\">Attribute Label:   </font></i></b>,\n",
       " <b><i><font color=\"#488AC7\">Attribute Label:   </font></i></b>,\n",
       " <b><i><font color=\"#488AC7\">Attribute Label:   </font></i></b>,\n",
       " <b><i><font color=\"#488AC7\">Attribute Label:   </font></i></b>,\n",
       " <b><i><font color=\"#488AC7\">Attribute Label:   </font></i></b>,\n",
       " <b><i><font color=\"#488AC7\">Attribute Label:   </font></i></b>,\n",
       " <b><i><font color=\"#488AC7\">Attribute Label:   </font></i></b>,\n",
       " <b><i><font color=\"#488AC7\">Attribute Label:   </font></i></b>,\n",
       " <b><i><font color=\"#488AC7\">Attribute Label:   </font></i></b>,\n",
       " <b><i><font color=\"#488AC7\">Attribute Label:   </font></i></b>,\n",
       " <b><i><font color=\"#488AC7\">Attribute Label:   </font></i></b>,\n",
       " <b><i><font color=\"#488AC7\">Attribute Label:   </font></i></b>,\n",
       " <b><i><font color=\"#488AC7\">Attribute Label:   </font></i></b>,\n",
       " <b><i><font color=\"#488AC7\">Attribute Label:   </font></i></b>,\n",
       " <b><i><font color=\"#488AC7\">Attribute Label:   </font></i></b>,\n",
       " <b><i><font color=\"#488AC7\">Attribute Label:   </font></i></b>,\n",
       " <b><i><font color=\"#488AC7\">Attribute Label:   </font></i></b>,\n",
       " <b><i><font color=\"#488AC7\">Attribute Label:   </font></i></b>,\n",
       " <b><i><font color=\"#488AC7\">Attribute Label:   </font></i></b>,\n",
       " <b><i><font color=\"#488AC7\">Attribute Label:   </font></i></b>,\n",
       " <b><i><font color=\"#488AC7\">Attribute Label:   </font></i></b>,\n",
       " <b><i><font color=\"#488AC7\">Attribute Label:   </font></i></b>,\n",
       " <b><i><font color=\"#488AC7\">Attribute Label:   </font></i></b>,\n",
       " <b><i><font color=\"#488AC7\">Attribute Label:   </font></i></b>,\n",
       " <b><i><font color=\"#488AC7\">Attribute Label:   </font></i></b>,\n",
       " <b><i><font color=\"#488AC7\">Attribute Label:   </font></i></b>,\n",
       " <b><i><font color=\"#488AC7\">Attribute Label:   </font></i></b>,\n",
       " <b><i><font color=\"#488AC7\">Attribute Label:   </font></i></b>,\n",
       " <b><i><font color=\"#488AC7\">Attribute Label:   </font></i></b>,\n",
       " <b><i><font color=\"#488AC7\">Attribute Label:   </font></i></b>,\n",
       " <b><i><font color=\"#488AC7\">Attribute Label:   </font></i></b>,\n",
       " <b><i><font color=\"#488AC7\">Attribute Label:   </font></i></b>,\n",
       " <b><i><font color=\"#488AC7\">Attribute Label:   </font></i></b>,\n",
       " <b><i><font color=\"#488AC7\">Attribute Label:   </font></i></b>,\n",
       " <b><i><font color=\"#488AC7\">Attribute Label:   </font></i></b>,\n",
       " <b><i><font color=\"#488AC7\">Attribute Label:   </font></i></b>,\n",
       " <b><i><font color=\"#488AC7\">Attribute Label:   </font></i></b>,\n",
       " <b><i><font color=\"#488AC7\">Attribute Label:   </font></i></b>,\n",
       " <b><i><font color=\"#488AC7\">Attribute Label:   </font></i></b>,\n",
       " <b><i><font color=\"#488AC7\">Attribute Label:   </font></i></b>,\n",
       " <b><i><font color=\"#488AC7\">Attribute Label:   </font></i></b>,\n",
       " <b><i><font color=\"#488AC7\">Attribute Label:   </font></i></b>,\n",
       " <b><i><font color=\"#488AC7\">Attribute Label:   </font></i></b>,\n",
       " <b><i><font color=\"#488AC7\">Attribute Label:   </font></i></b>,\n",
       " <b><i><font color=\"#488AC7\">Attribute Label:   </font></i></b>,\n",
       " <b><i><font color=\"#488AC7\">Attribute Label:   </font></i></b>,\n",
       " <b><i><font color=\"#488AC7\">Attribute Label:   </font></i></b>,\n",
       " <b><i><font color=\"#488AC7\">Attribute Label:   </font></i></b>,\n",
       " <b><i><font color=\"#488AC7\">Attribute Label:   </font></i></b>,\n",
       " <b><i><font color=\"#488AC7\">Attribute Label:   </font></i></b>,\n",
       " <b><i><font color=\"#488AC7\">Attribute Label:   </font></i></b>,\n",
       " <b><i><font color=\"#488AC7\">Attribute Label:   </font></i></b>,\n",
       " <b><i><font color=\"#488AC7\">Attribute Label:   </font></i></b>,\n",
       " <b><i><font color=\"#488AC7\">Attribute Label:   </font></i></b>,\n",
       " <b><i><font color=\"#488AC7\">Attribute Label:   </font></i></b>,\n",
       " <b><i><font color=\"#488AC7\">Attribute Label:   </font></i></b>,\n",
       " <b><i><font color=\"#488AC7\">Attribute Label:   </font></i></b>,\n",
       " <b><i><font color=\"#488AC7\">Attribute Label:   </font></i></b>,\n",
       " <b><i><font color=\"#488AC7\">Attribute Label:   </font></i></b>,\n",
       " <b><i><font color=\"#488AC7\">Attribute Label:   </font></i></b>,\n",
       " <b><i><font color=\"#488AC7\">Attribute Label:   </font></i></b>,\n",
       " <b><i><font color=\"#488AC7\">Attribute Label:   </font></i></b>,\n",
       " <b><i><font color=\"#488AC7\">Attribute Label:   </font></i></b>,\n",
       " <b><i><font color=\"#488AC7\">Attribute Label:   </font></i></b>,\n",
       " <b><i><font color=\"#488AC7\">Attribute Label:   </font></i></b>,\n",
       " <b><i><font color=\"#488AC7\">Attribute Label:   </font></i></b>,\n",
       " <b><i><font color=\"#488AC7\">Attribute Label:   </font></i></b>,\n",
       " <b><i><font color=\"#488AC7\">Attribute Label:   </font></i></b>,\n",
       " <b><i><font color=\"#488AC7\">Attribute Label:   </font></i></b>,\n",
       " <b><i><font color=\"#488AC7\">Attribute Label:   </font></i></b>,\n",
       " <b><i><font color=\"#488AC7\">Attribute Label:   </font></i></b>,\n",
       " <b><i><font color=\"#488AC7\">Attribute Label:   </font></i></b>,\n",
       " <b><i><font color=\"#488AC7\">Attribute Label:   </font></i></b>,\n",
       " <b><i><font color=\"#488AC7\">Attribute Label:   </font></i></b>,\n",
       " <b><i><font color=\"#488AC7\">Attribute Label:   </font></i></b>,\n",
       " <b><i><font color=\"#488AC7\">Attribute Label:   </font></i></b>,\n",
       " <b><i><font color=\"#488AC7\">Attribute Label:   </font></i></b>,\n",
       " <b><i><font color=\"#488AC7\">Attribute Label:   </font></i></b>,\n",
       " <b><i><font color=\"#488AC7\">Attribute Label:   </font></i></b>,\n",
       " <b><i><font color=\"#488AC7\">Attribute Label:   </font></i></b>,\n",
       " <b><i><font color=\"#488AC7\">Attribute Label:   </font></i></b>,\n",
       " <b><i><font color=\"#488AC7\">Attribute Label:   </font></i></b>]"
      ]
     },
     "execution_count": 5,
     "metadata": {},
     "output_type": "execute_result"
    }
   ],
   "source": [
    "soup.body.find_all('b', text = 'Attribute Label:   ')"
   ]
  },
  {
   "cell_type": "code",
   "execution_count": 6,
   "id": "02e68bcc-52f3-4679-889a-0295807ae22c",
   "metadata": {},
   "outputs": [
    {
     "data": {
      "text/plain": [
       "'STATE'"
      ]
     },
     "execution_count": 6,
     "metadata": {},
     "output_type": "execute_result"
    }
   ],
   "source": [
    "soup.body.find('b', text = 'Attribute Label:   ').next_sibling #cite: chatgpt on finding the next value after a specified text value."
   ]
  },
  {
   "cell_type": "code",
   "execution_count": 7,
   "id": "ae641f2f-6fd6-4c19-82e3-15ac52e570c5",
   "metadata": {},
   "outputs": [],
   "source": [
    "attribute_labels = []\n",
    "attribute_definitions = []\n",
    "data_dict = {}\n",
    "for dt in soup.body.find_all('dt'):\n",
    "    label = dt.find('b', text = 'Attribute Label:   ')\n",
    "    definition = dt.find('b', text = 'Attribute Definition:')\n",
    "    if label:\n",
    "        attribute_labels.append(label.next_sibling)\n",
    "    if definition:\n",
    "        attribute_definitions.append(dt.find('b', text = 'Attribute Definition:').find_next('dd').text.strip())        "
   ]
  },
  {
   "cell_type": "code",
   "execution_count": 8,
   "id": "10b76b3b-fcb3-46b8-bbff-9ad416343c1b",
   "metadata": {},
   "outputs": [],
   "source": [
    "water_use_dict_df = pd.DataFrame()\n",
    "water_use_dict_df['attribute'] = attribute_labels\n",
    "water_use_dict_df['definition'] = attribute_definitions\n",
    "water_use_dict_df['description'] = water_use_dict_df.definition.str.split(', in ').str.get(0)\n",
    "water_use_dict_df['units'] = water_use_dict_df.definition.str.split(', in ').str.get(1)\n",
    "water_use_dict_df['source']= 'USGS Water Usage'"
   ]
  },
  {
   "cell_type": "code",
   "execution_count": 9,
   "id": "9b2586f9-bbd2-4cc6-929a-8949ec18e381",
   "metadata": {},
   "outputs": [],
   "source": [
    "water_use_dict_df['attribute'] = water_use_dict_df['attribute'].str.lower().str.replace('-','_')"
   ]
  },
  {
   "cell_type": "code",
   "execution_count": 10,
   "id": "067dc6e8-4c2c-49c4-b906-e1ed7631df8c",
   "metadata": {},
   "outputs": [
    {
     "data": {
      "text/html": [
       "<div>\n",
       "<style scoped>\n",
       "    .dataframe tbody tr th:only-of-type {\n",
       "        vertical-align: middle;\n",
       "    }\n",
       "\n",
       "    .dataframe tbody tr th {\n",
       "        vertical-align: top;\n",
       "    }\n",
       "\n",
       "    .dataframe thead th {\n",
       "        text-align: right;\n",
       "    }\n",
       "</style>\n",
       "<table border=\"1\" class=\"dataframe\">\n",
       "  <thead>\n",
       "    <tr style=\"text-align: right;\">\n",
       "      <th></th>\n",
       "      <th>attribute</th>\n",
       "      <th>definition</th>\n",
       "      <th>description</th>\n",
       "      <th>units</th>\n",
       "      <th>source</th>\n",
       "    </tr>\n",
       "  </thead>\n",
       "  <tbody>\n",
       "    <tr>\n",
       "      <th>0</th>\n",
       "      <td>state</td>\n",
       "      <td>United States postal abbreviation for one of t...</td>\n",
       "      <td>United States postal abbreviation for one of t...</td>\n",
       "      <td>NaN</td>\n",
       "      <td>USGS Water Usage</td>\n",
       "    </tr>\n",
       "    <tr>\n",
       "      <th>4</th>\n",
       "      <td>fips</td>\n",
       "      <td>Concatenation of STATEFIPS and COUNTYFIPS attr...</td>\n",
       "      <td>Concatenation of STATEFIPS and COUNTYFIPS attr...</td>\n",
       "      <td>NaN</td>\n",
       "      <td>USGS Water Usage</td>\n",
       "    </tr>\n",
       "    <tr>\n",
       "      <th>6</th>\n",
       "      <td>tp_totpop</td>\n",
       "      <td>Total population of area, in thousands</td>\n",
       "      <td>Total population of area</td>\n",
       "      <td>thousands</td>\n",
       "      <td>USGS Water Usage</td>\n",
       "    </tr>\n",
       "    <tr>\n",
       "      <th>7</th>\n",
       "      <td>ps_gwpop</td>\n",
       "      <td>Public Supply, population served by groundwate...</td>\n",
       "      <td>Public Supply, population served by groundwater</td>\n",
       "      <td>thousands</td>\n",
       "      <td>USGS Water Usage</td>\n",
       "    </tr>\n",
       "    <tr>\n",
       "      <th>8</th>\n",
       "      <td>ps_swpop</td>\n",
       "      <td>Public Supply, population served by surface wa...</td>\n",
       "      <td>Public Supply, population served by surface water</td>\n",
       "      <td>thousands</td>\n",
       "      <td>USGS Water Usage</td>\n",
       "    </tr>\n",
       "    <tr>\n",
       "      <th>...</th>\n",
       "      <td>...</td>\n",
       "      <td>...</td>\n",
       "      <td>...</td>\n",
       "      <td>...</td>\n",
       "      <td>...</td>\n",
       "    </tr>\n",
       "    <tr>\n",
       "      <th>128</th>\n",
       "      <td>pc_power</td>\n",
       "      <td>Thermoelectric recirculating, power generated,...</td>\n",
       "      <td>Thermoelectric recirculating, power generated</td>\n",
       "      <td>gigawatt-hours</td>\n",
       "      <td>USGS Water Usage</td>\n",
       "    </tr>\n",
       "    <tr>\n",
       "      <th>131</th>\n",
       "      <td>to_wgwto</td>\n",
       "      <td>Total groundwater withdrawals, total (fresh+sa...</td>\n",
       "      <td>Total groundwater withdrawals, total (fresh+sa...</td>\n",
       "      <td>Mgal/d</td>\n",
       "      <td>USGS Water Usage</td>\n",
       "    </tr>\n",
       "    <tr>\n",
       "      <th>134</th>\n",
       "      <td>to_wswto</td>\n",
       "      <td>Total surface-water withdrawals, total (fresh+...</td>\n",
       "      <td>Total surface-water withdrawals, total (fresh+...</td>\n",
       "      <td>Mgal/d</td>\n",
       "      <td>USGS Water Usage</td>\n",
       "    </tr>\n",
       "    <tr>\n",
       "      <th>137</th>\n",
       "      <td>to_wtotl</td>\n",
       "      <td>Total withdrawals, total (fresh+saline), in Mg...</td>\n",
       "      <td>Total withdrawals, total (fresh+saline)</td>\n",
       "      <td>Mgal/d</td>\n",
       "      <td>USGS Water Usage</td>\n",
       "    </tr>\n",
       "    <tr>\n",
       "      <th>140</th>\n",
       "      <td>to_cutotpartial</td>\n",
       "      <td>Irrigation and Thermoelectric, total consumpti...</td>\n",
       "      <td>Irrigation and Thermoelectric, total consumpti...</td>\n",
       "      <td>Mgal/d</td>\n",
       "      <td>USGS Water Usage</td>\n",
       "    </tr>\n",
       "  </tbody>\n",
       "</table>\n",
       "<p>61 rows × 5 columns</p>\n",
       "</div>"
      ],
      "text/plain": [
       "           attribute                                         definition  \\\n",
       "0              state  United States postal abbreviation for one of t...   \n",
       "4               fips  Concatenation of STATEFIPS and COUNTYFIPS attr...   \n",
       "6          tp_totpop             Total population of area, in thousands   \n",
       "7           ps_gwpop  Public Supply, population served by groundwate...   \n",
       "8           ps_swpop  Public Supply, population served by surface wa...   \n",
       "..               ...                                                ...   \n",
       "128         pc_power  Thermoelectric recirculating, power generated,...   \n",
       "131         to_wgwto  Total groundwater withdrawals, total (fresh+sa...   \n",
       "134         to_wswto  Total surface-water withdrawals, total (fresh+...   \n",
       "137         to_wtotl  Total withdrawals, total (fresh+saline), in Mg...   \n",
       "140  to_cutotpartial  Irrigation and Thermoelectric, total consumpti...   \n",
       "\n",
       "                                           description           units  \\\n",
       "0    United States postal abbreviation for one of t...             NaN   \n",
       "4    Concatenation of STATEFIPS and COUNTYFIPS attr...             NaN   \n",
       "6                             Total population of area       thousands   \n",
       "7      Public Supply, population served by groundwater       thousands   \n",
       "8    Public Supply, population served by surface water       thousands   \n",
       "..                                                 ...             ...   \n",
       "128      Thermoelectric recirculating, power generated  gigawatt-hours   \n",
       "131  Total groundwater withdrawals, total (fresh+sa...          Mgal/d   \n",
       "134  Total surface-water withdrawals, total (fresh+...          Mgal/d   \n",
       "137            Total withdrawals, total (fresh+saline)          Mgal/d   \n",
       "140  Irrigation and Thermoelectric, total consumpti...          Mgal/d   \n",
       "\n",
       "               source  \n",
       "0    USGS Water Usage  \n",
       "4    USGS Water Usage  \n",
       "6    USGS Water Usage  \n",
       "7    USGS Water Usage  \n",
       "8    USGS Water Usage  \n",
       "..                ...  \n",
       "128  USGS Water Usage  \n",
       "131  USGS Water Usage  \n",
       "134  USGS Water Usage  \n",
       "137  USGS Water Usage  \n",
       "140  USGS Water Usage  \n",
       "\n",
       "[61 rows x 5 columns]"
      ]
     },
     "execution_count": 10,
     "metadata": {},
     "output_type": "execute_result"
    }
   ],
   "source": [
    "combined_df_columns = list(pd.read_csv('clean-data/combined.csv').columns)\n",
    "water_use_dict_df = water_use_dict_df.loc[water_use_dict_df['attribute'].isin(combined_df_columns)]\n",
    "water_use_dict_df"
   ]
  },
  {
   "cell_type": "code",
   "execution_count": 11,
   "id": "a759535e-906d-435b-a499-f141d2b42bc6",
   "metadata": {},
   "outputs": [],
   "source": [
    "water_use_dict_df = water_use_dict_df[['attribute','description', 'definition', 'units', 'source']]"
   ]
  },
  {
   "cell_type": "code",
   "execution_count": 12,
   "id": "9abcdbb2-a991-411c-b561-f9ca4eb05e79",
   "metadata": {},
   "outputs": [],
   "source": [
    "# water_use_dict = dict(zip(water_use_dict_df['attribute'], water_use_dict_df['description']))"
   ]
  },
  {
   "cell_type": "markdown",
   "id": "d0ed6d01-7243-4416-843e-741f6a57237b",
   "metadata": {},
   "source": [
    "### Weather and Temperature Data from Keith Spangler via Figshare"
   ]
  },
  {
   "cell_type": "code",
   "execution_count": 13,
   "id": "53b6eee7-ec19-40cd-afc6-c01b8e639e59",
   "metadata": {},
   "outputs": [
    {
     "data": {
      "text/plain": [
       "200"
      ]
     },
     "execution_count": 13,
     "metadata": {},
     "output_type": "execute_result"
    }
   ],
   "source": [
    "url2 = 'https://www.nature.com/articles/s41597-022-01405-3/tables/4'\n",
    "res2 = requests.get(url2)\n",
    "res2.status_code"
   ]
  },
  {
   "cell_type": "code",
   "execution_count": 14,
   "id": "0df5eca8-5739-4b9b-ba81-5f437978cde4",
   "metadata": {},
   "outputs": [],
   "source": [
    "# res2.text"
   ]
  },
  {
   "cell_type": "code",
   "execution_count": 15,
   "id": "d528c94a-e931-4e3b-99bb-93c912ca8461",
   "metadata": {},
   "outputs": [],
   "source": [
    "soup = BeautifulSoup(res2.content,'lxml')"
   ]
  },
  {
   "cell_type": "code",
   "execution_count": 16,
   "id": "07835153-4b99-470e-b94f-f64b8eb5ae53",
   "metadata": {},
   "outputs": [],
   "source": [
    "#cite: 5.02 Web Scraping Lesson\n",
    "table = soup.find('table', attrs = {'data last-table'})\n",
    "\n",
    "## Headers\n",
    "head = table.find('thead')\n",
    "columns = []\n",
    "for col in head.find_all('p'):\n",
    "    columns.append(col.text)\n",
    "\n",
    "## Row Values\n",
    "table_vals = []\n",
    "body = table.find('tbody')\n",
    "for tr in body.find_all('tr'):\n",
    "    row = []\n",
    "    for td in tr.find_all('td'):\n",
    "        row.append(td.text)\n",
    "    table_vals.append(row)\n",
    "\n",
    "temp_vals_df = pd.DataFrame(table_vals, columns = columns)"
   ]
  },
  {
   "cell_type": "code",
   "execution_count": 17,
   "id": "e1872be3-6272-4319-9b9a-0f984152b8c3",
   "metadata": {},
   "outputs": [
    {
     "data": {
      "text/plain": [
       "Index(['Year', 'StCoFIPS', 'Tmean_C', 'TDmean_C', 'NETmean_C', 'HImean_C',\n",
       "       'HXmean_C', 'WBGTmean_C', 'Flag_T', 'Flag_TD', 'Flag_NET', 'Flag_HI',\n",
       "       'Flag_HX', 'Flag_WBGT'],\n",
       "      dtype='object')"
      ]
     },
     "execution_count": 17,
     "metadata": {},
     "output_type": "execute_result"
    }
   ],
   "source": [
    "pd.read_csv('clean-data/annual_temperature_2000-2020_FIPS.csv').columns"
   ]
  },
  {
   "cell_type": "code",
   "execution_count": 18,
   "id": "aa0e757e-5a63-4636-a47c-ebaf00c852da",
   "metadata": {},
   "outputs": [],
   "source": [
    "temp_vals_df = temp_vals_df.loc[temp_vals_df['Variable Name (Short)'].isin(pd.read_csv('clean-data/annual_temperature_2000-2020_FIPS.csv').columns)]"
   ]
  },
  {
   "cell_type": "code",
   "execution_count": 19,
   "id": "8d98c361-f27c-43e1-a3ca-6666e51774af",
   "metadata": {},
   "outputs": [],
   "source": [
    "temp_vals_df.rename(columns = {\n",
    "    'Variable Name (Short)' : 'attribute',\n",
    "    'Variable Name (Long)' : 'description',\n",
    "    'Description / Format' : 'definition',\n",
    "    'Units' : 'units'\n",
    "}, inplace = True)\n",
    "temp_vals_df['source'] = 'Spangler, Liang, Wellenius 2022'"
   ]
  },
  {
   "cell_type": "code",
   "execution_count": 20,
   "id": "c5fd2c8f-daa1-4d85-b841-ba89c9ec871b",
   "metadata": {},
   "outputs": [],
   "source": [
    "temp_vals_df.attribute = temp_vals_df.attribute.str.lower()"
   ]
  },
  {
   "cell_type": "code",
   "execution_count": 21,
   "id": "f846abc4-567a-4ddf-8428-de307fc1ebf8",
   "metadata": {},
   "outputs": [],
   "source": [
    "combined_dict_df = pd.concat([water_use_dict_df, temp_vals_df],axis = 0)"
   ]
  },
  {
   "cell_type": "code",
   "execution_count": 22,
   "id": "b0ec8c07-f98e-4efd-8bb9-32ea1e40f84a",
   "metadata": {},
   "outputs": [
    {
     "data": {
      "text/html": [
       "<div>\n",
       "<style scoped>\n",
       "    .dataframe tbody tr th:only-of-type {\n",
       "        vertical-align: middle;\n",
       "    }\n",
       "\n",
       "    .dataframe tbody tr th {\n",
       "        vertical-align: top;\n",
       "    }\n",
       "\n",
       "    .dataframe thead th {\n",
       "        text-align: right;\n",
       "    }\n",
       "</style>\n",
       "<table border=\"1\" class=\"dataframe\">\n",
       "  <thead>\n",
       "    <tr style=\"text-align: right;\">\n",
       "      <th></th>\n",
       "      <th>attribute</th>\n",
       "      <th>description</th>\n",
       "      <th>definition</th>\n",
       "      <th>units</th>\n",
       "      <th>source</th>\n",
       "    </tr>\n",
       "  </thead>\n",
       "  <tbody>\n",
       "    <tr>\n",
       "      <th>0</th>\n",
       "      <td>state</td>\n",
       "      <td>United States postal abbreviation for one of t...</td>\n",
       "      <td>United States postal abbreviation for one of t...</td>\n",
       "      <td>NaN</td>\n",
       "      <td>USGS Water Usage</td>\n",
       "    </tr>\n",
       "    <tr>\n",
       "      <th>4</th>\n",
       "      <td>fips</td>\n",
       "      <td>Concatenation of STATEFIPS and COUNTYFIPS attr...</td>\n",
       "      <td>Concatenation of STATEFIPS and COUNTYFIPS attr...</td>\n",
       "      <td>NaN</td>\n",
       "      <td>USGS Water Usage</td>\n",
       "    </tr>\n",
       "    <tr>\n",
       "      <th>6</th>\n",
       "      <td>tp_totpop</td>\n",
       "      <td>Total population of area</td>\n",
       "      <td>Total population of area, in thousands</td>\n",
       "      <td>thousands</td>\n",
       "      <td>USGS Water Usage</td>\n",
       "    </tr>\n",
       "    <tr>\n",
       "      <th>7</th>\n",
       "      <td>ps_gwpop</td>\n",
       "      <td>Public Supply, population served by groundwater</td>\n",
       "      <td>Public Supply, population served by groundwate...</td>\n",
       "      <td>thousands</td>\n",
       "      <td>USGS Water Usage</td>\n",
       "    </tr>\n",
       "    <tr>\n",
       "      <th>8</th>\n",
       "      <td>ps_swpop</td>\n",
       "      <td>Public Supply, population served by surface water</td>\n",
       "      <td>Public Supply, population served by surface wa...</td>\n",
       "      <td>thousands</td>\n",
       "      <td>USGS Water Usage</td>\n",
       "    </tr>\n",
       "  </tbody>\n",
       "</table>\n",
       "</div>"
      ],
      "text/plain": [
       "   attribute                                        description  \\\n",
       "0      state  United States postal abbreviation for one of t...   \n",
       "4       fips  Concatenation of STATEFIPS and COUNTYFIPS attr...   \n",
       "6  tp_totpop                           Total population of area   \n",
       "7   ps_gwpop    Public Supply, population served by groundwater   \n",
       "8   ps_swpop  Public Supply, population served by surface water   \n",
       "\n",
       "                                          definition      units  \\\n",
       "0  United States postal abbreviation for one of t...        NaN   \n",
       "4  Concatenation of STATEFIPS and COUNTYFIPS attr...        NaN   \n",
       "6             Total population of area, in thousands  thousands   \n",
       "7  Public Supply, population served by groundwate...  thousands   \n",
       "8  Public Supply, population served by surface wa...  thousands   \n",
       "\n",
       "             source  \n",
       "0  USGS Water Usage  \n",
       "4  USGS Water Usage  \n",
       "6  USGS Water Usage  \n",
       "7  USGS Water Usage  \n",
       "8  USGS Water Usage  "
      ]
     },
     "execution_count": 22,
     "metadata": {},
     "output_type": "execute_result"
    }
   ],
   "source": [
    "combined_dict_df.head()"
   ]
  },
  {
   "cell_type": "code",
   "execution_count": 288,
   "id": "942de6ab-559c-4a15-9f75-15cea377944a",
   "metadata": {},
   "outputs": [],
   "source": [
    "combined_dict_df.to_csv('clean-data/data_dict.csv', index = False)"
   ]
  },
  {
   "cell_type": "code",
   "execution_count": null,
   "id": "c58ca666-eafe-4072-9343-74181bfa4f87",
   "metadata": {},
   "outputs": [],
   "source": []
  }
 ],
 "metadata": {
  "kernelspec": {
   "display_name": "Python 3 (ipykernel)",
   "language": "python",
   "name": "python3"
  },
  "language_info": {
   "codemirror_mode": {
    "name": "ipython",
    "version": 3
   },
   "file_extension": ".py",
   "mimetype": "text/x-python",
   "name": "python",
   "nbconvert_exporter": "python",
   "pygments_lexer": "ipython3",
   "version": "3.10.9"
  }
 },
 "nbformat": 4,
 "nbformat_minor": 5
}
