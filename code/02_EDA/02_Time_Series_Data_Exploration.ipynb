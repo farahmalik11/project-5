{
 "cells": [
  {
   "cell_type": "markdown",
   "id": "c71047bd-e33c-4821-8f3e-e2f28f868a04",
   "metadata": {},
   "source": [
    "# Time Series Visualization and Projection"
   ]
  },
  {
   "cell_type": "markdown",
   "id": "c5055d53-8d67-445e-bc74-c097f7975413",
   "metadata": {},
   "source": [
    "Leveraging 20 years of Temperature and Drought Condition data at a county (~3100) level to illustrate relevant climate information"
   ]
  },
  {
   "cell_type": "code",
   "execution_count": null,
   "id": "325ae443-289d-4130-9382-76bc74b2b6b7",
   "metadata": {},
   "outputs": [],
   "source": [
    "import pandas as pd\n",
    "import numpy as np\n",
    "import matplotlib.pyplot as plt\n",
    "import seaborn as sns\n",
    "import plotly.express as px\n",
    "import warnings "
   ]
  },
  {
   "cell_type": "markdown",
   "id": "61f9151e-dd08-444c-b25a-6204b6649ee7",
   "metadata": {},
   "source": [
    "### Data Imports and Formatting"
   ]
  },
  {
   "cell_type": "code",
   "execution_count": null,
   "id": "bf9c1909-544c-480b-adc7-ac6d90296792",
   "metadata": {},
   "outputs": [],
   "source": [
    "mon = pd.read_csv('../../data/clean-data/Monthly_Temp_Drought_Combo.csv', dtype = {'FIPS':str})"
   ]
  },
  {
   "cell_type": "code",
   "execution_count": null,
   "id": "cc333cfd-5511-4840-9e3b-c732e7d62838",
   "metadata": {},
   "outputs": [],
   "source": [
    "mon.drop(columns = 'Unnamed: 0', inplace = True)"
   ]
  },
  {
   "cell_type": "code",
   "execution_count": null,
   "id": "1833368e-1ad1-46e5-8d21-def410859265",
   "metadata": {},
   "outputs": [],
   "source": [
    "mon.head()"
   ]
  },
  {
   "cell_type": "code",
   "execution_count": null,
   "id": "1e1a088f-b202-48d9-bda5-64bf43c7b39d",
   "metadata": {},
   "outputs": [],
   "source": [
    "mon.dtypes"
   ]
  },
  {
   "cell_type": "code",
   "execution_count": null,
   "id": "814786b1-2c02-468d-a117-e49cc1fcc3a5",
   "metadata": {},
   "outputs": [],
   "source": [
    "mon.rename(columns = {\n",
    "    'Month' : 'month',\n",
    "    'FIPS' : 'fips',\n",
    "    'Tmin_C' : 'min_temp',\n",
    "    'Tmax_C' : 'max_temp',\n",
    "    'Tmean_C' : 'mean_temp',\n",
    "    'Flag_T' : 'flag_pop_covered'\n",
    "}, inplace = True)"
   ]
  },
  {
   "cell_type": "code",
   "execution_count": null,
   "id": "9e63c0d2-858c-4ea4-bf4f-95e4d6bff8eb",
   "metadata": {},
   "outputs": [],
   "source": [
    "mon['month'] = pd.to_datetime(mon['month'],format = ('%Y-%m'))\n",
    "mon['month'].head()"
   ]
  },
  {
   "cell_type": "code",
   "execution_count": null,
   "id": "f2759ce1-3a9b-48a8-97cf-940eeb33cfa1",
   "metadata": {},
   "outputs": [],
   "source": [
    "mon['fips'] = mon['fips'].str.rjust(5,'0')\n",
    "#cite :https://stackoverflow.com/a/339024 for rjust\n",
    "mon['fips'].head()"
   ]
  },
  {
   "cell_type": "code",
   "execution_count": null,
   "id": "ea26ec5a-499a-458d-9967-5621b650da71",
   "metadata": {},
   "outputs": [],
   "source": [
    "mon.head()"
   ]
  },
  {
   "cell_type": "code",
   "execution_count": null,
   "id": "df8df30e-1ac2-4b33-9ff0-ef376b5d871e",
   "metadata": {},
   "outputs": [],
   "source": [
    "# Convert Celsius to Farenheit to limit confusion within the U.S. Market\n",
    "mon[['min_temp','max_temp','mean_temp']] *= (9/5)\n",
    "mon[['min_temp','max_temp','mean_temp']] += 32"
   ]
  },
  {
   "cell_type": "code",
   "execution_count": null,
   "id": "d5544368-0174-4057-ac6b-851e5e4aeb31",
   "metadata": {},
   "outputs": [],
   "source": [
    "# Confirm conversion of tepmerature columns\n",
    "mon.head()"
   ]
  },
  {
   "cell_type": "code",
   "execution_count": null,
   "id": "40242f73-f502-4fbd-833f-72e50c4b6817",
   "metadata": {},
   "outputs": [],
   "source": [
    "mon.dtypes"
   ]
  },
  {
   "cell_type": "markdown",
   "id": "0c98948d-830e-48d1-bd2f-dc3c51b07f8e",
   "metadata": {},
   "source": [
    "#### Import Annual Summarized Data"
   ]
  },
  {
   "cell_type": "code",
   "execution_count": null,
   "id": "fab310ca-e483-4d9a-b1b6-53342a96dd54",
   "metadata": {},
   "outputs": [],
   "source": [
    "year = pd.read_csv('../../clean-data/Temp_Drought_Combo.csv', dtype= {'FIPS' : str})\n",
    "year.drop(columns = 'Unnamed: 0', inplace = True)\n",
    "year['year'] = pd.to_datetime(year['year'].astype(str))\n",
    "year['FIPS'] = year['FIPS'].str.rjust(5,'0')\n",
    "# year.set_index('year', inplace = True)"
   ]
  },
  {
   "cell_type": "code",
   "execution_count": null,
   "id": "4d58dffa-dae3-4370-861a-4a36eb6a6736",
   "metadata": {},
   "outputs": [],
   "source": [
    "year.head()"
   ]
  },
  {
   "cell_type": "markdown",
   "id": "b211bbc3-bdb0-4713-bbdf-5299ad2d3571",
   "metadata": {},
   "source": [
    "#### Create County Dictionary to enable Human Readable Outputs"
   ]
  },
  {
   "cell_type": "code",
   "execution_count": null,
   "id": "9e8852c7-aac5-490c-9221-b5fdbc2d026d",
   "metadata": {},
   "outputs": [],
   "source": [
    "counties_df = pd.read_csv('../../data/raw-data/counties.csv', dtype = {'FIPS': str})\n",
    "counties_df.drop(columns = 'Unnamed: 0', inplace = True)\n",
    "counties_df['FIPS'] = counties_df['FIPS'].str.rjust(5,'0')\n",
    "\n",
    "counties_df.head()\n",
    "\n",
    "county_dict = dict(zip(counties_df['FIPS'], zip(counties_df['STATE'], counties_df['COUNTYNAME'], counties_df['LON'], counties_df['LAT'])))"
   ]
  },
  {
   "cell_type": "markdown",
   "id": "232ae664-f19d-4c2c-ba32-ef0c30e3496c",
   "metadata": {},
   "source": [
    "## Local Time Series"
   ]
  },
  {
   "cell_type": "code",
   "execution_count": null,
   "id": "7bacaee7-f1ca-448c-9527-612017b24a93",
   "metadata": {},
   "outputs": [],
   "source": [
    "# FIPS Codes Filter\n",
    "county_fips = '06001'\n",
    "min_year = 2010\n",
    "county = county_dict.get(county_fips)[1]\n",
    "state = county_dict.get(county_fips)[0]\n",
    "\n",
    "plot_temp_trends_county(county_fips, min_year, county, state)\n",
    "plot_drought_trends_county(county_fips, min_year, county, state)"
   ]
  },
  {
   "cell_type": "code",
   "execution_count": null,
   "id": "085c0cbd-32ff-44a8-82cd-8d0404bbfceb",
   "metadata": {},
   "outputs": [],
   "source": [
    "def plot_temp_trends_county(county_fips, min_year, county, state):    \n",
    "\n",
    "    # Filtered Monthly Summary View\n",
    "    county_month_view_df = mon[(mon['month'].dt.year >= min_year) & (mon['fips'] == county_fips)]\n",
    "    county_month_view_df.set_index('month', inplace = True)\n",
    "\n",
    "    # Annual Summary from Daily Data\n",
    "    county_year_view_df = year[(year['year'].dt.year >= min_year) & (year['FIPS'] == county_fips)]\n",
    "    county_year_view_df = county_year_view_df[['year','FIPS','Tmean_C']]\n",
    "    # Convert to Farenheit\n",
    "    county_year_view_df['Tmean_C'] *= (9/5)\n",
    "    county_year_view_df['Tmean_C'] += 32\n",
    "    county_year_view_df.rename(columns = {'Tmean_C' : 'Tmean_F'}, inplace = True)\n",
    "\n",
    "    county_year_view_df.set_index('year', inplace = True)\n",
    "    #cite: Time Series in Pandas Lesson\n",
    "    \n",
    "    \n",
    "    # Plot\n",
    "    plt.figure(figsize = (12,8))\n",
    "    plt.plot(county_month_view_df['min_temp'], c = '#EED78D', label = 'Low Temp (F)')\n",
    "    plt.plot(county_month_view_df['max_temp'], c = '#C22B26',  label = 'High Temp (F)')\n",
    "    plt.plot(county_month_view_df['mean_temp'], c = '#FFB632',  label = 'Mean Temp (F)')\n",
    "    plt.plot(county_year_view_df['Tmean_F'], c = 'k', label = 'Annual Mean Temp (F)',)\n",
    "    \n",
    "    X1 = county_month_view_df['max_temp']\n",
    "    X2 = county_month_view_df['min_temp']\n",
    "    plt.fill_between(county_month_view_df.index, X1,X2, color = '#EED78D', alpha = 0.10)\n",
    "\n",
    "    # Horizontal line at the min_year baseline\n",
    "    plt.axhline(county_year_view_df.loc['2010', 'Tmean_F'][0], c = '#808080', label = f'{min_year} Mean Annual Temp Baseline (F)') \n",
    "\n",
    "    plt.title(f\"Temperature Trend for {county} County, {state}\")\n",
    "    plt.yticks(fontsize = 12)\n",
    "    plt.xticks(fontsize = 12)\n",
    "    plt.ylabel('Average Monthly Temperature (F)', fontsize = 12)\n",
    "    plt.legend()\n",
    "    plt.savefig(fname = f'images/temp_trend_{county}_{state}.png', dpi = 200, bbox_inches = 'tight')\n",
    "    plt.show()"
   ]
  },
  {
   "cell_type": "code",
   "execution_count": null,
   "id": "b28e098b-0edf-4fa9-a717-7dada0a72c6f",
   "metadata": {},
   "outputs": [],
   "source": [
    "def plot_drought_trends_county(county_fips, min_year, county, state):\n",
    "    \n",
    "    # Filtered Monthly Summary View\n",
    "    county_month_view_df = mon[(mon['month'].dt.year >= min_year) & (mon['fips'] == county_fips)]\n",
    "    county_month_view_df.set_index('month', inplace = True)\n",
    "    county_month_view_df['extreme_plus'] = county_month_view_df[['exceptional_drought','extreme_drought']].max(axis = 1)\n",
    "    county_month_view_df['severe_plus'] = county_month_view_df[['exceptional_drought','extreme_drought','severe_drought']].max(axis = 1)\n",
    "    county_month_view_df['moderate_plus'] = county_month_view_df[['exceptional_drought','extreme_drought','severe_drought', 'moderate_drought']].max(axis = 1)\n",
    "\n",
    "    # Annual Summary from Daily Data\n",
    "    county_year_view_df = year[(year['year'].dt.year >= min_year) & (year['FIPS'] == county_fips)]\n",
    "    county_year_view_df = county_year_view_df[['year','FIPS','Tmean_C']]\n",
    "    # Convert to Farenheit\n",
    "    county_year_view_df['Tmean_C'] *= (9/5)\n",
    "    county_year_view_df['Tmean_C'] += 32\n",
    "    county_year_view_df.rename(columns = {'Tmean_C' : 'Tmean_F'}, inplace = True)\n",
    "\n",
    "    county_year_view_df.set_index('year', inplace = True)\n",
    "    #cite: Time Series in Pandas Lesson\n",
    "    \n",
    "    \n",
    "    \n",
    "    # Plot and Fill\n",
    "    plt.figure(figsize = (12,8))\n",
    "\n",
    "    plt.plot(county_month_view_df['moderate_plus'], c = '#EED78D',  label = 'Moderate Drought')\n",
    "    plt.fill_between(county_month_view_df.index, county_month_view_df['moderate_plus'], 0, color = '#EED78D', alpha = 0.1)\n",
    "    \n",
    "    plt.plot(county_month_view_df['severe_plus'], c = '#FFB632',  label = 'Severe Drought')\n",
    "    plt.fill_between(county_month_view_df.index, county_month_view_df['severe_plus'], 0, color = '#FFB632', alpha = 0.125)\n",
    "\n",
    "    plt.plot(county_month_view_df['extreme_plus'], c = '#D58900',  label = 'Extreme Drought')\n",
    "    plt.fill_between(county_month_view_df.index, county_month_view_df['extreme_plus'], 0, color = '#D58900', alpha = 0.15)\n",
    "    \n",
    "    plt.plot(county_month_view_df['exceptional_drought'], c = '#C22B26', label = 'Exceptional Drought')\n",
    "    plt.fill_between(county_month_view_df.index, county_month_view_df['exceptional_drought'], 0, color = '#C22B26', alpha = 0.2)\n",
    "\n",
    "    plt.title(f\"Average Minimum Drought Condition for {county} County, {state}\")\n",
    "    plt.yticks(fontsize = 12)\n",
    "    plt.xticks(fontsize = 12)\n",
    "    plt.ylabel('Percent Population Experiencing Designated Drought Condition or Worse', fontsize = 12)\n",
    "    plt.legend()\n",
    "    plt.savefig(fname = f'images/drought_trend_{county}_{state}.png', dpi = 200, bbox_inches = 'tight')\n",
    "    plt.show();"
   ]
  },
  {
   "cell_type": "markdown",
   "id": "bf77a360-4d46-44b8-9a08-81298c2d9025",
   "metadata": {
    "tags": []
   },
   "source": [
    "### Time Series Choropleths"
   ]
  },
  {
   "cell_type": "code",
   "execution_count": null,
   "id": "12c26467-1821-4408-9396-f9c50b2cc3b5",
   "metadata": {},
   "outputs": [],
   "source": [
    "# cite : https://python-graph-gallery.com/choropleth-map-plotly-python/\n",
    "from urllib.request import urlopen\n",
    "import json\n",
    "with urlopen('https://raw.githubusercontent.com/plotly/datasets/master/geojson-counties-fips.json') as response:\n",
    "    counties = json.load(response)"
   ]
  },
  {
   "cell_type": "markdown",
   "id": "b9bfcfd8-8579-49fa-ad96-71a0922d01d4",
   "metadata": {},
   "source": [
    "#### County > State Time Choropleths"
   ]
  },
  {
   "cell_type": "code",
   "execution_count": null,
   "id": "e33ec51a-7121-4c92-a447-7cc41ce1e182",
   "metadata": {
    "tags": []
   },
   "outputs": [],
   "source": [
    "county_fips = '06001'\n",
    "min_year = 2010\n",
    "\n",
    "# County Center latitude and longitude\n",
    "county = county_dict.get(county_fips)[1]\n",
    "state = county_dict.get(county_fips)[0]\n",
    "county_lat = county_dict.get(county_fips)[3]\n",
    "county_lon = county_dict.get(county_fips)[2]\n",
    "\n",
    "# Filter down for State of Selected County\n",
    "view_mon = mon[(mon['month'].dt.year >= min_year) & (mon['fips'].str[:2] == county_fips[:2])]\n",
    "view_mon = pd.merge(left = view_mon, right = counties_df[['COUNTYNAME', 'STATE','FIPS']], left_on = 'fips', right_on = 'FIPS', how = 'left')\n",
    "view_mon['month'] = view_mon['month'].astype(str)\n",
    "\n",
    "# Filter down Geography json file used by the choropleth to relevant state to limit runtime\n",
    "# Cite: for the idea on filtering down the geojson: https://stackoverflow.com/questions/70950535/plot-single-state-choropleth-map-in-plotly-how-to-index-geojson\n",
    "counties_copy = counties.copy()\n",
    "counties_copy['features'] = [feat for feat in counties['features'] if feat['properties']['STATE'] == county_fips[:2]]\n",
    "\n",
    "# view_mon.head()\n",
    "# Plot Choropleths\n",
    "# cite: https://medium.com/p/2ff04921c60b\n",
    "\n",
    "#Exceptional Drought\n",
    "px.choropleth(data_frame = view_mon,\n",
    "         lat=None,\n",
    "         lon=None,\n",
    "         locations='fips',\n",
    "         geojson=counties_copy,\n",
    "         animation_frame='month',\n",
    "         color='exceptional_drought',labels = 'Exceptional Drought',\n",
    "         color_continuous_scale='Reds',\n",
    "         range_color=[0,100],\n",
    "         hover_name='COUNTYNAME',\n",
    "         hover_data=['COUNTYNAME','STATE','min_temp', 'max_temp', 'mean_temp','normal_wet', 'abnormally_dry', 'moderate_drought', 'severe_drought', 'extreme_drought', 'exceptional_drought'],\n",
    "         scope = 'usa', center = {'lat' : county_lat, 'lon' : county_lon},\n",
    "         title = f'Percent Population Experiencing Exceptional Drought: {state}',\n",
    "         height=1000)"
   ]
  },
  {
   "cell_type": "code",
   "execution_count": null,
   "id": "2ec34a25-062b-4a47-8b62-5c53220b11cf",
   "metadata": {},
   "outputs": [],
   "source": [
    "#Extreme Drought or worse\n",
    "view_mon['extreme_plus'] = view_mon[['exceptional_drought','extreme_drought']].max(axis = 1)\n",
    "px.choropleth(data_frame = view_mon,\n",
    "         lat=None,\n",
    "         lon=None,\n",
    "         locations='fips',\n",
    "         geojson=counties_copy,\n",
    "         animation_frame='month',\n",
    "         color='extreme_plus',labels = 'Extreme Drought',\n",
    "         color_continuous_scale='Oranges',\n",
    "         range_color=[0,100],\n",
    "         hover_name='COUNTYNAME',\n",
    "         hover_data=['COUNTYNAME','STATE','min_temp', 'max_temp', 'mean_temp','normal_wet', 'abnormally_dry', 'moderate_drought', 'severe_drought', 'extreme_drought', 'exceptional_drought'],\n",
    "         scope = 'usa', center = {'lat' : county_lat, 'lon' : county_lon},\n",
    "         title = f'Percent Population Experiencing Extreme Drought: {state}',\n",
    "         height=1000)\n",
    "\n"
   ]
  },
  {
   "cell_type": "code",
   "execution_count": null,
   "id": "407be9d7-2959-45c5-b9e5-a9aa10433abd",
   "metadata": {},
   "outputs": [],
   "source": [
    "#Severe Drought or worse\n",
    "view_mon['severe_plus'] = view_mon[['exceptional_drought','extreme_drought','severe_drought']].max(axis = 1)\n",
    "px.choropleth(data_frame = view_mon,\n",
    "         lat=None,\n",
    "         lon=None,\n",
    "         locations='fips',\n",
    "         geojson=counties_copy,\n",
    "         animation_frame='month',\n",
    "         color='severe_plus',labels = 'Severe Drought',\n",
    "         color_continuous_scale='Oranges',\n",
    "         range_color=[0,100],\n",
    "         hover_name='COUNTYNAME',\n",
    "         hover_data=['COUNTYNAME','STATE','min_temp', 'max_temp', 'mean_temp','normal_wet', 'abnormally_dry', 'moderate_drought', 'severe_drought', 'extreme_drought', 'exceptional_drought'],\n",
    "         scope = 'usa', center = {'lat' : county_lat, 'lon' : county_lon},\n",
    "         title = f'Percent Population Experiencing Severe Drought: {state}',\n",
    "         height=1000)\n"
   ]
  },
  {
   "cell_type": "code",
   "execution_count": null,
   "id": "5d54d028-e0e6-4775-8ab7-08013c74a20f",
   "metadata": {},
   "outputs": [],
   "source": [
    "#Moderate Drought or worse\n",
    "view_mon['moderate_plus'] = view_mon[['exceptional_drought','extreme_drought','severe_drought', 'moderate_drought']].max(axis = 1)\n",
    "px.choropleth(data_frame = view_mon,\n",
    "         lat=None,\n",
    "         lon=None,\n",
    "         locations='fips',\n",
    "         geojson=counties_copy,\n",
    "         animation_frame='month',\n",
    "         color='moderate_plus',labels = 'Moderate Drought',\n",
    "         color_continuous_scale='Oranges',\n",
    "         range_color=[0,100],\n",
    "         hover_name='COUNTYNAME',\n",
    "         hover_data=['COUNTYNAME','STATE','min_temp', 'max_temp', 'mean_temp','normal_wet', 'abnormally_dry', 'moderate_drought', 'severe_drought', 'extreme_drought', 'exceptional_drought'],\n",
    "         scope = 'usa', center = {'lat' : county_lat, 'lon' : county_lon},\n",
    "         title = f'Percent Population Experiencing Moderate Drought: {state}',\n",
    "         height=1000)"
   ]
  },
  {
   "cell_type": "markdown",
   "id": "4ff4e280-2af6-4b69-a041-b43c1e9c8f54",
   "metadata": {},
   "source": [
    "#### Temperature Change by County"
   ]
  },
  {
   "cell_type": "code",
   "execution_count": null,
   "id": "acae2cc3-ce58-431a-802c-b7c33aba8293",
   "metadata": {},
   "outputs": [],
   "source": [
    "# Format Temperature Data with at 12 month lag\n",
    "view_mon_c = view_mon.copy()\n",
    "view_mon_c['month'] = pd.to_datetime(view_mon_c['month'])\n",
    "view_mon_c.set_index('month', inplace = True)\n",
    "view_mon_c['min_12'] = view_mon_c['min_temp'].diff(12)\n",
    "view_mon_c['max_12'] = view_mon_c['max_temp'].diff(12)\n",
    "view_mon_c['mean_12'] = view_mon_c['mean_temp'].diff(12)\n",
    "view_mon_12 = view_mon_c.dropna()\n",
    "view_mon_12 = view_mon_12[['fips','min_temp','max_temp','mean_temp','COUNTYNAME','STATE','min_12','max_12','mean_12']]\n",
    "view_mon_12.reset_index(inplace = True)\n",
    "view_mon_12['month'] =  view_mon_12['month'].astype(str)\n",
    "# view_mon_12.head()\n",
    "\n",
    "\n",
    "\n",
    "px.choropleth(data_frame = view_mon_12,\n",
    "         lat=None,\n",
    "         lon=None,\n",
    "         locations='fips',\n",
    "         geojson=counties_copy,\n",
    "         animation_frame='month',\n",
    "         color='mean_12',labels = '12 Month Mean Temperature Change',\n",
    "         color_continuous_scale='rdbu_r',\n",
    "         range_color=[-40,40],\n",
    "         hover_name='COUNTYNAME',\n",
    "         hover_data=['COUNTYNAME','STATE','min_temp', 'max_temp', 'mean_temp'],\n",
    "         scope = 'usa', \n",
    "           center = {'lat' : county_lat, 'lon' : county_lon},\n",
    "         title = f'Year over Year Monthly Average Temperature Change (F): {state}',\n",
    "         height=1000)"
   ]
  },
  {
   "cell_type": "markdown",
   "id": "4d5fcb47-ac3c-4790-b144-cdfae9cb3588",
   "metadata": {},
   "source": [
    "### Seasonality Decomposition"
   ]
  },
  {
   "cell_type": "code",
   "execution_count": null,
   "id": "4afd4414-a470-48d1-bd2d-103538dc3e0a",
   "metadata": {},
   "outputs": [],
   "source": [
    "from statsmodels.tsa.seasonal import STL, seasonal_decompose\n",
    "# cite: Time Series Lesson with Matt Brems\n",
    "\n",
    "# Data Prep\n",
    "view_mon_mean_temp = view_mon[['month','mean_temp','min_temp','max_temp']][view_mon['fips'] == county_fips]\n",
    "view_mon_mean_temp['month'] = pd.to_datetime(view_mon_mean_temp['month'])\n",
    "view_mon_mean_temp.set_index('month', inplace = True)"
   ]
  },
  {
   "cell_type": "code",
   "execution_count": null,
   "id": "0fe7122d-1deb-492e-ba46-355fc275939c",
   "metadata": {},
   "outputs": [],
   "source": [
    "decomp_mean = STL(view_mon_mean_temp['mean_temp']).fit()\n",
    "\n",
    "fig, ax = plt.subplots(2,1, figsize = (8,8))\n",
    "fig.tight_layout(h_pad=3)\n",
    "fig.subplots_adjust(top = 0.92)\n",
    "plt.suptitle(f\"Mean Monthly Temperature STL Decomposition: {county} County, {state}\", fontsize = 13)\n",
    "# ax[0].sup_title()\n",
    "\n",
    "ax[0].set_title(f'STL Seasonally Adjusted Monthly Mean Temperature Trend',fontsize = 11)\n",
    "ax[0].set_ylabel('Seasonally Adjusted Temperature (F)')\n",
    "decomp_mean.trend.plot(ax=ax[0], c='#FFB632')\n",
    "\n",
    "ax[1].set_title(f'Monthly Average Temperature - Seasonality Impact')\n",
    "ax[1].set_ylabel('Seasonality Impact: Monthly Average Temperature (F)')\n",
    "decomp_mean.seasonal.plot(ax=ax[1], c = '#FFB632')\n",
    "\n",
    "# ax[2].set_title(f'Monthly Average Temperature - Residuals')\n",
    "# ax[2].set_ylabel('Residual Temperature Variation (F)')\n",
    "# decomp_mean.resid.plot(ax=ax[2], c= '#FFB632');\n",
    ";\n",
    "plt.savefig(dpi = 200, fname = f'images/MonthlyAverageTemperature_Decomp_{county}_{state}.png', bbox_inches = 'tight')"
   ]
  },
  {
   "cell_type": "code",
   "execution_count": null,
   "id": "0cbfafc0-e694-4fa3-bf0f-85c4734d17d9",
   "metadata": {},
   "outputs": [],
   "source": [
    "decomp_max = STL(view_mon_mean_temp['max_temp']).fit()\n",
    "\n",
    "fig, ax = plt.subplots(2,1, figsize = (8,8))\n",
    "fig.tight_layout(h_pad=3)\n",
    "fig.subplots_adjust(top = 0.92)\n",
    "plt.suptitle(f\"Monthly Average High Temperature STL Decomposition: {county} County, {state}\", fontsize = 13)\n",
    "\n",
    "ax[0].set_title(f'STL Seasonally Adjusted Monthly High Temperature Trend',fontsize = 11)\n",
    "ax[0].set_ylabel('Seasonally Adjusted Temperature (F)')\n",
    "decomp_max.trend.plot(ax=ax[0], c='#C22B26')\n",
    "\n",
    "ax[1].set_title(f'Monthly Average High Temperature - Seasonality Impact')\n",
    "ax[1].set_ylabel('Seasonality Impact: Monthly Average Temperature (F)')\n",
    "decomp_max.seasonal.plot(ax=ax[1], c = '#C22B26')\n",
    "\n",
    "# ax[2].set_title(f'Monthly Average High Temperature - Residuals')\n",
    "# ax[2].set_ylabel('Residual Temperature Variation (F)')\n",
    "# decomp_mean.resid.plot(ax=ax[2], c= '#C22B26');\n",
    ";\n",
    "plt.savefig(dpi = 200, fname = f'images/MonthlyHighTemperature_Decomp_{county}_{state}.png', bbox_inches = 'tight')"
   ]
  }
 ],
 "metadata": {
  "kernelspec": {
   "display_name": "Python 3 (ipykernel)",
   "language": "python",
   "name": "python3"
  },
  "language_info": {
   "codemirror_mode": {
    "name": "ipython",
    "version": 3
   },
   "file_extension": ".py",
   "mimetype": "text/x-python",
   "name": "python",
   "nbconvert_exporter": "python",
   "pygments_lexer": "ipython3",
   "version": "3.10.9"
  }
 },
 "nbformat": 4,
 "nbformat_minor": 5
}
