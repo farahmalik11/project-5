{
 "cells": [
  {
   "cell_type": "markdown",
   "id": "067bb7fa-349a-4a1e-98bd-a9523e6cf721",
   "metadata": {},
   "source": [
    "# Import libraries"
   ]
  },
  {
   "cell_type": "code",
   "execution_count": null,
   "id": "b27d7871-00b0-4f14-bb4a-c731a55efdbe",
   "metadata": {},
   "outputs": [],
   "source": [
    "import pandas as pd\n",
    "import numpy as np\n",
    "import matplotlib.pyplot as plt"
   ]
  },
  {
   "cell_type": "markdown",
   "id": "f00c19cb-c343-4030-910c-3f3d95368696",
   "metadata": {},
   "source": [
    "# Load data"
   ]
  },
  {
   "cell_type": "code",
   "execution_count": null,
   "id": "e4452526-46c9-4088-8dcb-93b12d70f8f1",
   "metadata": {},
   "outputs": [],
   "source": []
  },
  {
   "cell_type": "markdown",
   "id": "8ad148be-72e6-44d4-9f57-02baa761e7c1",
   "metadata": {},
   "source": [
    "# Todo"
   ]
  },
  {
   "cell_type": "markdown",
   "id": "1f05dd8b-5356-4485-a739-3019877eaef7",
   "metadata": {},
   "source": [
    "# Data Cleaning"
   ]
  },
  {
   "cell_type": "markdown",
   "id": "1e8c292f-d1f1-439b-bf56-defc01c44049",
   "metadata": {},
   "source": [
    "## Merge data"
   ]
  },
  {
   "cell_type": "code",
   "execution_count": null,
   "id": "646598cf-fb3d-4d0d-9742-73cf00ea7acf",
   "metadata": {},
   "outputs": [],
   "source": []
  },
  {
   "cell_type": "markdown",
   "id": "d6926a18-7337-412b-9e91-cd428af40348",
   "metadata": {},
   "source": [
    "# EDA"
   ]
  },
  {
   "cell_type": "code",
   "execution_count": null,
   "id": "1171a777-95cd-425c-be54-11680afb4b3c",
   "metadata": {},
   "outputs": [],
   "source": [
    "> Distribution of water usage by county"
   ]
  },
  {
   "cell_type": "markdown",
   "id": "3bcfab0c-9fb2-4d4a-8b4a-c8b4c782df9b",
   "metadata": {},
   "source": [
    "## Function plotter (Bob)"
   ]
  },
  {
   "cell_type": "code",
   "execution_count": null,
   "id": "ab96c117-8b6e-4768-ae09-1582cce29d93",
   "metadata": {},
   "outputs": [],
   "source": []
  },
  {
   "cell_type": "markdown",
   "id": "21a9abe2-6c60-4892-b26e-b48d7f72989b",
   "metadata": {},
   "source": [
    "# Modeling"
   ]
  },
  {
   "cell_type": "markdown",
   "id": "e8835659-7c18-457d-8484-be861bf0e14c",
   "metadata": {},
   "source": [
    "## Clustering"
   ]
  },
  {
   "cell_type": "markdown",
   "id": "0c905a83-61d7-4b97-98cb-a2f343c6d98d",
   "metadata": {},
   "source": [
    "> County, income, water-usage (streamlit and plotly)"
   ]
  },
  {
   "cell_type": "markdown",
   "id": "c7bb17a7-5e70-4f55-99e2-1163e65977fd",
   "metadata": {},
   "source": [
    "## Transfer learning"
   ]
  },
  {
   "cell_type": "markdown",
   "id": "9d7e6dd2-815b-4cf9-9793-e341d2773e1d",
   "metadata": {},
   "source": [
    "## Time series?"
   ]
  },
  {
   "cell_type": "markdown",
   "id": "d5a10f16-887f-4458-97ac-d75092a04c43",
   "metadata": {},
   "source": [
    "> Drought, temp?"
   ]
  }
 ],
 "metadata": {
  "kernelspec": {
   "display_name": "Python 3 (ipykernel)",
   "language": "python",
   "name": "python3"
  },
  "language_info": {
   "codemirror_mode": {
    "name": "ipython",
    "version": 3
   },
   "file_extension": ".py",
   "mimetype": "text/x-python",
   "name": "python",
   "nbconvert_exporter": "python",
   "pygments_lexer": "ipython3",
   "version": "3.10.9"
  }
 },
 "nbformat": 4,
 "nbformat_minor": 5
}
